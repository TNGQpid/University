{
 "cells": [
  {
   "cell_type": "code",
   "execution_count": 1,
   "id": "91cbe135-523f-4aa5-af2c-b98a54b29a09",
   "metadata": {},
   "outputs": [],
   "source": [
    "import torch\n",
    "import torch.nn as nn\n",
    "import torch.nn.functional as F\n",
    "import torch.optim as optim\n",
    "from torchvision import datasets, transforms"
   ]
  },
  {
   "cell_type": "code",
   "execution_count": 2,
   "id": "20c03f3e-b2b4-4664-b8ec-409d85c6df06",
   "metadata": {},
   "outputs": [
    {
     "name": "stdout",
     "output_type": "stream",
     "text": [
      "False\n"
     ]
    }
   ],
   "source": [
    "print(torch.cuda.is_available())"
   ]
  },
  {
   "cell_type": "code",
   "execution_count": 3,
   "id": "1dd4717c-9588-499b-afe8-1070fabe88b6",
   "metadata": {},
   "outputs": [],
   "source": [
    "def get_data_loader(training = True):\n",
    "    \n",
    "    transform=transforms.Compose([\n",
    "        transforms.ToTensor(),\n",
    "        transforms.Normalize((0.1307,), (0.3081,))\n",
    "        ])\n",
    "\n",
    "    training_data = datasets.FashionMNIST(\n",
    "    root=\"data\",\n",
    "    train=True,\n",
    "    download=True,\n",
    "    transform=transform\n",
    "    )\n",
    "\n",
    "    test_data = datasets.FashionMNIST(\n",
    "    root=\"data\",\n",
    "    train=False,\n",
    "    download=True,\n",
    "    transform=transform\n",
    "    )\n",
    "\n",
    "    DataLoader = torch.utils.data.DataLoader\n",
    "    train_dataloader = DataLoader(training_data, batch_size=64)\n",
    "    test_dataloader = DataLoader(test_data, batch_size=64)\n",
    "    \n",
    "    if training:\n",
    "        return train_dataloader\n",
    "    else:\n",
    "        return test_dataloader"
   ]
  },
  {
   "cell_type": "code",
   "execution_count": 4,
   "id": "ed7cb175-5159-40b2-8708-6c92e05821b7",
   "metadata": {},
   "outputs": [
    {
     "name": "stdout",
     "output_type": "stream",
     "text": [
      "<class 'torch.utils.data.dataloader.DataLoader'>\n",
      "Dataset FashionMNIST\n",
      "    Number of datapoints: 60000\n",
      "    Root location: data\n",
      "    Split: Train\n",
      "    StandardTransform\n",
      "Transform: Compose(\n",
      "               ToTensor()\n",
      "               Normalize(mean=(0.1307,), std=(0.3081,))\n",
      "           )\n"
     ]
    }
   ],
   "source": [
    "train_loader = get_data_loader()\n",
    "print(type(train_loader))\n",
    "print(train_loader.dataset)"
   ]
  },
  {
   "cell_type": "code",
   "execution_count": 5,
   "id": "ff3cd125-79e1-4a4d-aee6-f7f3479f3b84",
   "metadata": {},
   "outputs": [],
   "source": [
    "def build_model():\n",
    "    model = nn.Sequential(\n",
    "        nn.Flatten(),\n",
    "        nn.Linear(28*28, 128),\n",
    "        nn.ReLU(),\n",
    "        nn.Linear(128, 64),\n",
    "        nn.ReLU(),\n",
    "        nn.Linear(64, 10),\n",
    "        )\n",
    "    return model"
   ]
  },
  {
   "cell_type": "code",
   "execution_count": 6,
   "id": "363781f3-e19c-4632-a487-26b5337d4fb0",
   "metadata": {},
   "outputs": [
    {
     "name": "stdout",
     "output_type": "stream",
     "text": [
      "Sequential(\n",
      "  (0): Flatten(start_dim=1, end_dim=-1)\n",
      "  (1): Linear(in_features=784, out_features=128, bias=True)\n",
      "  (2): ReLU()\n",
      "  (3): Linear(in_features=128, out_features=64, bias=True)\n",
      "  (4): ReLU()\n",
      "  (5): Linear(in_features=64, out_features=10, bias=True)\n",
      ")\n"
     ]
    }
   ],
   "source": [
    "model = build_model()\n",
    "print(model)"
   ]
  },
  {
   "cell_type": "code",
   "execution_count": 7,
   "id": "c03eb697-1110-4493-8633-153a87ed6603",
   "metadata": {},
   "outputs": [],
   "source": [
    "def train_model(model, train_loader, criterion, T):\n",
    "    def train_step(model, train_loader, criterion):\n",
    "        # Set the model to training mode - important for batch normalization and dropout layers\n",
    "        # Unnecessary in this situation but added for best practices\n",
    "        model.train()\n",
    "\n",
    "        correct = 0  # To keep track of correct predictions\n",
    "        total = 0    # Total number of samples\n",
    "        total_loss = 0\n",
    "\n",
    "        otim = torch.optim.SGD(model.parameters(), lr=0.001, momentum=0.9)\n",
    "        for batch, (X, y) in enumerate(train_loader):\n",
    "            batch_size = X.size(0)\n",
    "            # Compute prediction and loss\n",
    "            pred = model(X)\n",
    "\n",
    "            otim.zero_grad()\n",
    "            \n",
    "            loss = criterion(pred, y)\n",
    "            total_loss += loss.item()\n",
    "            # include an optimizer\n",
    "            \n",
    "            # Backpropagation\n",
    "            loss.backward()\n",
    "            otim.step()\n",
    "            \n",
    "            # find the predicted class of each item in the batch:\n",
    "            predicted = pred.argmax(1)\n",
    "            # if it's the correct class, make it a 1. Then find the sum to see how many we got correct\n",
    "            to_add = (predicted == y).sum()\n",
    "            # update current to include the newly classified batch\n",
    "            correct += to_add\n",
    "            total += batch_size\n",
    "\n",
    "        los = total_loss / len(train_loader)\n",
    "            \n",
    "        return los, correct, total\n",
    "        #print(f\"loss: {loss:>7f}  [{current:>5d}/{size:>5d}]\")\n",
    "\n",
    "    size = len(train_loader.dataset)\n",
    "    for epoch in range(T):\n",
    "        loss, correct, total = train_step(model, train_loader, criterion)\n",
    "        print(f\"Train Epoch: {epoch}      Accuracy: {correct}/{total} ({correct/total*100:.2f}%)     Loss: {loss:.3f}\")"
   ]
  },
  {
   "cell_type": "code",
   "execution_count": 8,
   "id": "490024b6-b7fe-4e81-9bb4-8405071542c7",
   "metadata": {},
   "outputs": [
    {
     "name": "stdout",
     "output_type": "stream",
     "text": [
      "Train Epoch: 0      Accuracy: 41866/60000 69.78%     Loss: 0.901\n",
      "Train Epoch: 1      Accuracy: 49333/60000 82.22%     Loss: 0.510\n",
      "Train Epoch: 2      Accuracy: 50434/60000 84.06%     Loss: 0.453\n",
      "Train Epoch: 3      Accuracy: 50978/60000 84.96%     Loss: 0.423\n",
      "Train Epoch: 4      Accuracy: 51483/60000 85.81%     Loss: 0.402\n"
     ]
    }
   ],
   "source": [
    "criterion = nn.CrossEntropyLoss()\n",
    "train_model(model, train_loader, criterion, 5)"
   ]
  },
  {
   "cell_type": "code",
   "execution_count": 9,
   "id": "8e128957-1e86-489d-b462-02ffd3caa52a",
   "metadata": {},
   "outputs": [],
   "source": [
    "def evaluate_model(model, test_loader, criterion, show_loss = True):\n",
    "    # Set the model to evaluation mode - important for batch normalization and dropout layers\n",
    "    # Unnecessary in this situation but added for best practices\n",
    "    model.eval()\n",
    "    size = len(test_loader.dataset)\n",
    "    num_batches = len(test_loader)\n",
    "    loss, correct = 0, 0\n",
    "\n",
    "    # Evaluating the model with torch.no_grad() ensures that no gradients are computed during test mode\n",
    "    # also serves to reduce unnecessary gradient computations and memory usage for tensors with requires_grad=True\n",
    "    with torch.no_grad():\n",
    "        for X, y in test_loader:\n",
    "            pred = model(X)\n",
    "            loss += criterion(pred, y).item()\n",
    "            correct += (pred.argmax(1) == y).type(torch.float).sum().item() # the same thing as before just more compact\n",
    "\n",
    "    loss /= num_batches\n",
    "    correct /= size\n",
    "    if show_loss:\n",
    "        print(f\"Average loss: {loss:.4f}\\nAccuracy: {(100*correct):.2f}%\")\n",
    "    else:\n",
    "        print(f\"Accuracy: {(100*correct):.2f}%\")"
   ]
  },
  {
   "cell_type": "code",
   "execution_count": 10,
   "id": "658f4127-433f-4870-9ea8-796dd90bda5b",
   "metadata": {},
   "outputs": [],
   "source": [
    "criterion = nn.CrossEntropyLoss()\n",
    "test_loader = get_data_loader(training = False)"
   ]
  },
  {
   "cell_type": "code",
   "execution_count": 11,
   "id": "9b732aab-138d-4b17-840c-c29a3504dd3c",
   "metadata": {},
   "outputs": [
    {
     "name": "stdout",
     "output_type": "stream",
     "text": [
      "Average loss: 0.4286\n",
      "Accuracy: 84.67%\n",
      "Accuracy: 84.67%\n"
     ]
    }
   ],
   "source": [
    "evaluate_model(model, test_loader, criterion, show_loss = True)\n",
    "evaluate_model(model, test_loader, criterion, show_loss = False)"
   ]
  },
  {
   "cell_type": "code",
   "execution_count": 12,
   "id": "ec43c359-d107-4842-98d9-a7a3cacce1d1",
   "metadata": {},
   "outputs": [],
   "source": [
    "def predict_label(model, test_images, index):\n",
    "    logits = model(test_images[index])\n",
    "    prob = F.softmax(logits, dim = 1)\n",
    "\n",
    "    class_names = ['T-shirt/top','Trouser','Pullover','Dress','Coat','Sandal','Shirt','Sneaker','Bag','Ankle Boot']\n",
    "    \n",
    "    # find the top 3 values and match them to the classes\n",
    "    listy = [p.item() for p in prob[0]]\n",
    "    top_3 = sorted(listy)[-3:]\n",
    "    both = [(value, class_names[listy.index(value)]) for value in top_3]\n",
    "    print(both)\n",
    "    print(f\"{both[2][1]}: {both[2][0] * 100:.2f}%\\n{both[1][1]}: {both[1][0] * 100:.2f}%\\n{both[0][1]}: {both[0][0] * 100:.2f}%\")"
   ]
  },
  {
   "cell_type": "code",
   "execution_count": 13,
   "id": "6ba42541-6e79-4cc3-968e-94bae2510fb2",
   "metadata": {},
   "outputs": [
    {
     "name": "stdout",
     "output_type": "stream",
     "text": [
      "[(0.009726941585540771, 'Coat'), (0.03216451406478882, 'Shirt'), (0.9576472640037537, 'Pullover')]\n",
      "Pullover: 95.76%\n",
      "Shirt: 3.22%\n",
      "Coat: 0.97%\n"
     ]
    }
   ],
   "source": [
    "test_images = next(iter(test_loader))[0]\n",
    "predict_label(model, test_images, 1)"
   ]
  },
  {
   "cell_type": "code",
   "execution_count": null,
   "id": "2d0fa26b-13ea-4d28-a5a2-38c896c58529",
   "metadata": {},
   "outputs": [],
   "source": []
  }
 ],
 "metadata": {
  "kernelspec": {
   "display_name": "Python 3 (ipykernel)",
   "language": "python",
   "name": "python3"
  },
  "language_info": {
   "codemirror_mode": {
    "name": "ipython",
    "version": 3
   },
   "file_extension": ".py",
   "mimetype": "text/x-python",
   "name": "python",
   "nbconvert_exporter": "python",
   "pygments_lexer": "ipython3",
   "version": "3.12.3"
  }
 },
 "nbformat": 4,
 "nbformat_minor": 5
}
