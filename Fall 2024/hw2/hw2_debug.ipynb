{
 "cells": [
  {
   "cell_type": "code",
   "execution_count": 1,
   "id": "2287d184-ccf1-478f-aa03-45b87a3fb065",
   "metadata": {},
   "outputs": [],
   "source": [
    "import sys\n",
    "import math\n",
    "import string"
   ]
  },
  {
   "cell_type": "code",
   "execution_count": 2,
   "id": "d0f4177c-1640-476a-ae77-3186510e51d9",
   "metadata": {},
   "outputs": [],
   "source": [
    "def get_parameter_vectors():\n",
    "    '''\n",
    "    This function parses e.txt and s.txt to get the  26-dimensional multinomial\n",
    "    parameter vector (characters probabilities of English and Spanish) as\n",
    "    descibed in section 1.2 of the writeup\n",
    "\n",
    "    Returns: tuple of vectors e and s\n",
    "    '''\n",
    "    #Implementing vectors e,s as lists (arrays) of length 26\n",
    "    #with p[0] being the probability of 'A' and so on\n",
    "    e=[0]*26\n",
    "    s=[0]*26\n",
    "\n",
    "    with open('e.txt',encoding='utf-8') as f:\n",
    "        for line in f:\n",
    "            #strip: removes the newline character\n",
    "            #split: split the string on space character\n",
    "            char,prob=line.strip().split(\" \")\n",
    "            #ord('E') gives the ASCII (integer) value of character 'E'\n",
    "            #we then subtract it from 'A' to give array index\n",
    "            #This way 'A' gets index 0 and 'Z' gets index 25.\n",
    "            e[ord(char)-ord('A')]=float(prob)\n",
    "    f.close()\n",
    "\n",
    "    with open('s.txt',encoding='utf-8') as f:\n",
    "        for line in f:\n",
    "            char,prob=line.strip().split(\" \")\n",
    "            s[ord(char)-ord('A')]=float(prob)\n",
    "    f.close()\n",
    "\n",
    "    return (e,s)"
   ]
  },
  {
   "cell_type": "code",
   "execution_count": 3,
   "id": "2c9954e3-bb6e-4ca3-be3f-2fc37195a901",
   "metadata": {},
   "outputs": [],
   "source": [
    "def shred(filename):\n",
    "    #Using a dictionary here. You may change this to any data structure of\n",
    "    #your choice such as lists (X=[]) etc. for the assignment\n",
    "    X=dict()\n",
    "    with open (filename,encoding='utf-8') as f:\n",
    "        data = f.read()\n",
    "\n",
    "    data = data.upper()\n",
    "    UpAlpha = set(string.ascii_uppercase)\n",
    "\n",
    "    for character in UpAlpha:\n",
    "        X[character] = 0\n",
    "        \n",
    "    for character in data:\n",
    "        if character in UpAlpha:\n",
    "            X[character] += 1\n",
    "\n",
    "    return X"
   ]
  },
  {
   "cell_type": "code",
   "execution_count": 4,
   "id": "6bb421da-4793-4b40-8a0a-c7ac2887ae4c",
   "metadata": {},
   "outputs": [
    {
     "name": "stdout",
     "output_type": "stream",
     "text": [
      "Q1\n",
      "A 4\n",
      "B 2\n",
      "C 2\n",
      "D 2\n",
      "E 5\n",
      "F 2\n",
      "G 1\n",
      "H 2\n",
      "I 7\n",
      "J 0\n",
      "K 0\n",
      "L 4\n",
      "M 0\n",
      "N 5\n",
      "O 3\n",
      "P 1\n",
      "Q 0\n",
      "R 2\n",
      "S 3\n",
      "T 4\n",
      "U 1\n",
      "V 0\n",
      "W 0\n",
      "X 0\n",
      "Y 1\n",
      "Z 0\n"
     ]
    }
   ],
   "source": [
    "#Q1 output\n",
    "print(\"Q1\")\n",
    "X = shred(\"samples/letter0.txt\")\n",
    "for character, count in sorted(X.items()):\n",
    "    print(f\"{character} {count}\")"
   ]
  },
  {
   "cell_type": "code",
   "execution_count": 5,
   "id": "2fe5b5ba-08bc-4113-b284-ee50e7fb7dd7",
   "metadata": {},
   "outputs": [
    {
     "name": "stdout",
     "output_type": "stream",
     "text": [
      "Q2\n",
      "-9.9344\n",
      "-8.4265\n"
     ]
    }
   ],
   "source": [
    "#Q2\n",
    "e,s = get_parameter_vectors()\n",
    "a = sorted(X.items())[0][1] * math.log(e[0])\n",
    "b = sorted(X.items())[0][1] * math.log(s[0])\n",
    "print(\"Q2\")\n",
    "print(float(\"{:.4f}\".format(a)))\n",
    "print(float(\"{:.4f}\".format(b)))"
   ]
  },
  {
   "cell_type": "code",
   "execution_count": 6,
   "id": "00297cb3-98a6-49e5-91d9-b13836164677",
   "metadata": {},
   "outputs": [
    {
     "name": "stdout",
     "output_type": "stream",
     "text": [
      "Q3\n",
      "-147.8619\n",
      "-152.4015\n"
     ]
    }
   ],
   "source": [
    "#Q3\n",
    "PYE = 0.6\n",
    "PYS = 0.4\n",
    "X = sorted(X.items())\n",
    "FYE = math.log(PYE) + sum(X[i][1] * math.log(e[i]) for i in range(25))\n",
    "FYS = math.log(PYS) + sum(X[i][1] * math.log(s[i]) for i in range(25))\n",
    "print(\"Q3\")\n",
    "print(float(\"{:.4f}\".format(FYE)))\n",
    "print(float(\"{:.4f}\".format(FYS)))"
   ]
  },
  {
   "cell_type": "code",
   "execution_count": 7,
   "id": "eb591b33-108f-40d4-aad6-eaf37ab64f7c",
   "metadata": {},
   "outputs": [
    {
     "name": "stdout",
     "output_type": "stream",
     "text": [
      "Q4\n",
      "0.989434609215349\n"
     ]
    }
   ],
   "source": [
    "#Q4\n",
    "def get_prob(FYE, FYS):\n",
    "    if FYS - FYE >= 100:\n",
    "        return 0\n",
    "    elif FYS - FYE <= -100:\n",
    "        return 1\n",
    "    else:\n",
    "        return 1 / (1 + math.exp(FYS - FYE))\n",
    "print(\"Q4\")\n",
    "print(get_prob(FYE, FYS))"
   ]
  },
  {
   "cell_type": "code",
   "execution_count": null,
   "id": "31ff7f55-a16c-4bb1-b19b-d0bf89a2ed8b",
   "metadata": {},
   "outputs": [],
   "source": []
  }
 ],
 "metadata": {
  "kernelspec": {
   "display_name": "Python 3 (ipykernel)",
   "language": "python",
   "name": "python3"
  },
  "language_info": {
   "codemirror_mode": {
    "name": "ipython",
    "version": 3
   },
   "file_extension": ".py",
   "mimetype": "text/x-python",
   "name": "python",
   "nbconvert_exporter": "python",
   "pygments_lexer": "ipython3",
   "version": "3.12.3"
  }
 },
 "nbformat": 4,
 "nbformat_minor": 5
}
