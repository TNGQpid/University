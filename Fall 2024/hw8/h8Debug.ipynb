{
 "cells": [
  {
   "cell_type": "code",
   "execution_count": 28,
   "metadata": {},
   "outputs": [],
   "source": [
    "import heapq"
   ]
  },
  {
   "cell_type": "code",
   "execution_count": 29,
   "metadata": {},
   "outputs": [],
   "source": [
    "def solvability(board):\n",
    "    # the inversions of the board must be even for it to be solvable\n",
    "    # an inversion is when a number (i) is greater than another number (j) that comes after it\n",
    "    if board.count(0) > 1:\n",
    "        return True\n",
    "    inversions = 0\n",
    "    for i in range(len(board)):\n",
    "        for j in range(i+1, len(board)):\n",
    "            if board[i] != 0 and board[j] != 0 and board[i] > board[j]:\n",
    "                inversions += 1\n",
    "    return inversions % 2 == 0"
   ]
  },
  {
   "cell_type": "code",
   "execution_count": 30,
   "metadata": {},
   "outputs": [],
   "source": [
    "def find_goal_state(state):\n",
    "    total_tiles = 0\n",
    "    goal_state = []\n",
    "    for i in state:\n",
    "        if i != 0:\n",
    "            total_tiles += 1\n",
    "    for i in range(9):\n",
    "        if i <= total_tiles - 1:\n",
    "            goal_state.append(i+1)\n",
    "        else:\n",
    "            goal_state.append(0)\n",
    "    return goal_state"
   ]
  },
  {
   "cell_type": "code",
   "execution_count": 31,
   "metadata": {},
   "outputs": [],
   "source": [
    "def get_manhatten_distance(state):\n",
    "    distance = 0\n",
    "    goal_state = find_goal_state(state)\n",
    "    for i in range(len(state)):\n",
    "        tile = state[i]\n",
    "        if tile != 0:\n",
    "            # grab the final position from the goal state that we found above\n",
    "            goal_index = goal_state.index(tile)\n",
    "            # find the distance between the current position and the goal position\n",
    "            # for the row, this is done with index floor division 3\n",
    "            goal_row = goal_index // 3\n",
    "            curr_row = i // 3\n",
    "            # for a column, this is done with index mod 3\n",
    "            goal_col = goal_index % 3\n",
    "            curr_col = i % 3\n",
    "            # manhatten distance is the sum of differences in y plus some of differences in x (everything is positive)\n",
    "            distance += abs(goal_row - curr_row) + abs(goal_col - curr_col)\n",
    "    return distance"
   ]
  },
  {
   "cell_type": "code",
   "execution_count": 32,
   "metadata": {},
   "outputs": [
    {
     "name": "stdout",
     "output_type": "stream",
     "text": [
      "[1, 2, 3, 4, 5, 6, 0, 0, 0] [1, 2, 3, 4, 5, 0, 0, 0, 0] [1, 2, 3, 4, 5, 0, 0, 0, 0]\n",
      "10 4 10\n",
      "True True True\n"
     ]
    }
   ],
   "source": [
    "a = find_goal_state([5,6,3,2,1,4,0,0,0])\n",
    "b = find_goal_state([1,4,3,5,2,0,0,0,0])\n",
    "c = find_goal_state([0,0,2,0,3,4,0,5,1])\n",
    "print(a,b,c)\n",
    "\n",
    "d = get_manhatten_distance([5,6,3,2,1,4,0,0,0])\n",
    "e = get_manhatten_distance([1,4,3,5,2,0,0,0,0])\n",
    "f = get_manhatten_distance([0,0,2,0,3,4,0,5,1])\n",
    "print(d,e,f)\n",
    "\n",
    "l = solvability([5,6,3,2,1,4,0,0,0])\n",
    "m = solvability([1,4,3,5,2,0,0,0,0])\n",
    "n = solvability([0,0,2,0,3,4,0,5,1])\n",
    "print(l,m,n)"
   ]
  },
  {
   "cell_type": "code",
   "execution_count": 33,
   "metadata": {},
   "outputs": [],
   "source": [
    "def get_children(state):\n",
    "    children = []\n",
    "    # we have to count the number of zeros because this affects our available moves\n",
    "    zeros = [i for i in range(len(state)) if state[i] == 0]\n",
    "\n",
    "    for space in zeros:\n",
    "        row, col = space // 3, space % 3\n",
    "\n",
    "        moves = [(row - 1, col), # move it up\n",
    "                 (row + 1, col), # move it down\n",
    "                 (row, col - 1), # move it left\n",
    "                 (row, col + 1)] # move it right]\n",
    "        \n",
    "        for (new_row, new_col) in moves:\n",
    "            # check if the operation is in bounds\n",
    "            if 0 <= new_row < 3 and 0 <= new_col < 3:\n",
    "                # if it is in bounds, find the new position\n",
    "                new_pos = new_row * 3 + new_col\n",
    "\n",
    "                if state[new_pos] != 0: # make sure we're not swapping with another zero\n",
    "                    new_state = state.copy()\n",
    "                    # swap the values\n",
    "                    new_state[space], new_state[new_pos] = new_state[new_pos], new_state[space]\n",
    "                    # done\n",
    "                    children.append(new_state)\n",
    "    return sorted(children)\n",
    "        \n"
   ]
  },
  {
   "cell_type": "code",
   "execution_count": 34,
   "metadata": {},
   "outputs": [
    {
     "name": "stdout",
     "output_type": "stream",
     "text": [
      "[[5, 6, 3, 0, 1, 4, 2, 0, 0], [5, 6, 3, 2, 0, 4, 0, 1, 0], [5, 6, 3, 2, 1, 0, 0, 0, 4]]\n",
      "[[1, 4, 0, 5, 2, 3, 0, 0, 0], [1, 4, 3, 0, 2, 0, 5, 0, 0], [1, 4, 3, 5, 0, 0, 0, 2, 0], [1, 4, 3, 5, 0, 2, 0, 0, 0]]\n",
      "[[0, 0, 2, 0, 3, 4, 5, 0, 1], [0, 0, 2, 3, 0, 4, 0, 5, 1], [0, 2, 0, 0, 3, 4, 0, 5, 1], [0, 3, 2, 0, 0, 4, 0, 5, 1]]\n"
     ]
    }
   ],
   "source": [
    "a = get_children([5,6,3,2,1,4,0,0,0])\n",
    "b = get_children([1,4,3,5,2,0,0,0,0])\n",
    "c = get_children([0,0,2,0,3,4,0,5,1])\n",
    "print(f\"{a}\\n{b}\\n{c}\")"
   ]
  },
  {
   "cell_type": "code",
   "execution_count": 35,
   "metadata": {},
   "outputs": [],
   "source": [
    "def print_succ(state):\n",
    "    children = get_children(state)\n",
    "    \n",
    "    for child in children:\n",
    "        h = get_manhatten_distance(child)\n",
    "        print(f\"{child} h={h}\")"
   ]
  },
  {
   "cell_type": "code",
   "execution_count": 36,
   "metadata": {},
   "outputs": [
    {
     "name": "stdout",
     "output_type": "stream",
     "text": [
      "for the first case:\n",
      "[5, 6, 3, 0, 1, 4, 2, 0, 0] h=11\n",
      "[5, 6, 3, 2, 0, 4, 0, 1, 0] h=11\n",
      "[5, 6, 3, 2, 1, 0, 0, 0, 4] h=11\n",
      "for the second case:\n",
      "[1, 4, 0, 5, 2, 3, 0, 0, 0] h=5\n",
      "[1, 4, 3, 0, 2, 0, 5, 0, 0] h=5\n",
      "[1, 4, 3, 5, 0, 0, 0, 2, 0] h=5\n",
      "[1, 4, 3, 5, 0, 2, 0, 0, 0] h=5\n",
      "for the third case:\n",
      "[0, 0, 2, 0, 3, 4, 5, 0, 1] h=11\n",
      "[0, 0, 2, 3, 0, 4, 0, 5, 1] h=11\n",
      "[0, 2, 0, 0, 3, 4, 0, 5, 1] h=9\n",
      "[0, 3, 2, 0, 0, 4, 0, 5, 1] h=9\n",
      "for a fourth case:\n",
      "[1, 2, 3, 4, 0, 6, 7, 5, 8] h=2\n",
      "[1, 2, 3, 4, 5, 6, 0, 7, 8] h=2\n",
      "[1, 2, 3, 4, 5, 6, 7, 8, 0] h=0\n"
     ]
    }
   ],
   "source": [
    "print(\"for the first case:\")\n",
    "a = print_succ([5,6,3,2,1,4,0,0,0])\n",
    "print(\"for the second case:\")\n",
    "b = print_succ([1,4,3,5,2,0,0,0,0])\n",
    "print(\"for the third case:\")\n",
    "c = print_succ([0,0,2,0,3,4,0,5,1])\n",
    "print(\"for a fourth case:\")\n",
    "d = print_succ([1,2,3,4,5,6,7,0,8])"
   ]
  },
  {
   "cell_type": "code",
   "execution_count": 64,
   "metadata": {},
   "outputs": [],
   "source": [
    "def solve(state):\n",
    "\n",
    "    if solvability(state):\n",
    "        print(True)\n",
    "    else:\n",
    "        print(False)\n",
    "        return\n",
    "\n",
    "    visited = set()\n",
    "    heap = []\n",
    "    # heap should look like (g + h, state, g, path)\n",
    "    heapq.heappush(heap, (0 + get_manhatten_distance(state), state, 0, []))\n",
    "\n",
    "    iterations = 0 # for a infinite loop detector\n",
    "    goal = find_goal_state(state)\n",
    "    while len(heap) > 0:\n",
    "        # make an extra infinite loop detector\n",
    "        if iterations > 100000:\n",
    "            print(False)\n",
    "            return\n",
    "        iterations += 1\n",
    "        # the priority is g + h, where g is the number of moves taken and h is the heuristic, or the estimated number of moves to go\n",
    "        priority, current, g, path = heapq.heappop(heap)\n",
    "        # on the first iteration, since there is nothing in the queue yet, the initial priority doesn't really matter\n",
    "        # but after that, heapq will always pop the node with the lowest priority, which is like selecting min(g + h) from class\n",
    "        if current == goal:\n",
    "            final_state = [current]\n",
    "            entire_path = path + final_state\n",
    "            for i in range(len(entire_path)):\n",
    "                h = get_manhatten_distance(entire_path[i])\n",
    "                print(f\"{entire_path[i]} h={h} moves: {i}\")\n",
    "            \n",
    "            print(iterations)\n",
    "            return # terminate the function\n",
    "        \n",
    "        if tuple(current) in visited:\n",
    "            continue # no need to re-expand this state, that just leads to circles\n",
    "        else:\n",
    "            visited.add(tuple(current))\n",
    "        \n",
    "        # expand the node\n",
    "        for child in get_children(current):\n",
    "            g1 = g + 1 # we made a move to get to this node/child, so increment g by 1\n",
    "            h1 = get_manhatten_distance(child)\n",
    "            heapq.heappush(heap, (g1 + h1, child, g1, path + [current]))\n"
   ]
  },
  {
   "cell_type": "code",
   "execution_count": 65,
   "metadata": {},
   "outputs": [
    {
     "name": "stdout",
     "output_type": "stream",
     "text": [
      "True\n",
      "[5, 6, 3, 2, 1, 4, 0, 0, 0] h=10 moves: 0\n",
      "[5, 6, 3, 0, 1, 4, 2, 0, 0] h=11 moves: 1\n",
      "[0, 6, 3, 5, 1, 4, 2, 0, 0] h=10 moves: 2\n",
      "[0, 6, 3, 5, 1, 4, 0, 2, 0] h=9 moves: 3\n",
      "[0, 6, 3, 0, 1, 4, 5, 2, 0] h=10 moves: 4\n",
      "[0, 6, 3, 1, 0, 4, 5, 2, 0] h=9 moves: 5\n",
      "[0, 6, 3, 1, 4, 0, 5, 2, 0] h=8 moves: 6\n",
      "[1, 6, 3, 0, 4, 0, 5, 2, 0] h=7 moves: 7\n",
      "[1, 6, 3, 4, 0, 0, 5, 2, 0] h=6 moves: 8\n",
      "[1, 0, 3, 4, 6, 0, 5, 2, 0] h=5 moves: 9\n",
      "[1, 0, 3, 4, 0, 6, 5, 2, 0] h=4 moves: 10\n",
      "[1, 0, 3, 4, 2, 6, 5, 0, 0] h=3 moves: 11\n",
      "[1, 0, 3, 4, 2, 6, 0, 5, 0] h=2 moves: 12\n",
      "[1, 2, 3, 4, 0, 6, 0, 5, 0] h=1 moves: 13\n",
      "[1, 2, 3, 4, 5, 6, 0, 0, 0] h=0 moves: 14\n",
      "358\n",
      "Time taken: 0.011247634887695312\n"
     ]
    }
   ],
   "source": [
    "import time\n",
    "time1 = time.time()\n",
    "solve([5,6,3,2,1,4,0,0,0])\n",
    "time2 = time.time()\n",
    "print(\"Time taken:\", time2 - time1)"
   ]
  },
  {
   "cell_type": "code",
   "execution_count": 66,
   "metadata": {},
   "outputs": [
    {
     "name": "stdout",
     "output_type": "stream",
     "text": [
      "True\n",
      "[4, 3, 0, 5, 1, 6, 7, 2, 0] h=7 moves: 0\n",
      "[4, 0, 3, 5, 1, 6, 7, 2, 0] h=6 moves: 1\n",
      "[4, 1, 3, 5, 0, 6, 7, 2, 0] h=5 moves: 2\n",
      "[4, 1, 3, 0, 5, 6, 7, 2, 0] h=4 moves: 3\n",
      "[0, 1, 3, 4, 5, 6, 7, 2, 0] h=3 moves: 4\n",
      "[0, 1, 3, 4, 5, 0, 7, 2, 6] h=4 moves: 5\n",
      "[0, 1, 3, 4, 0, 5, 7, 2, 6] h=5 moves: 6\n",
      "[0, 1, 3, 4, 2, 5, 7, 0, 6] h=4 moves: 7\n",
      "[1, 0, 3, 4, 2, 5, 7, 0, 6] h=3 moves: 8\n",
      "[1, 2, 3, 4, 0, 5, 7, 0, 6] h=2 moves: 9\n",
      "[1, 2, 3, 4, 5, 0, 7, 0, 6] h=1 moves: 10\n",
      "[1, 2, 3, 4, 5, 6, 7, 0, 0] h=0 moves: 11\n",
      "99\n"
     ]
    }
   ],
   "source": [
    "solve([4,3,0,5,1,6,7,2,0])"
   ]
  },
  {
   "cell_type": "code",
   "execution_count": null,
   "metadata": {},
   "outputs": [],
   "source": [
    "\"\"\"\n",
    "[4, 3, 0, 5, 1, 6, 7, 2, 0] h=7 moves: 0\n",
    "[4, 0, 3, 5, 1, 6, 7, 2, 0] h=6 moves: 1\n",
    "[4, 1, 3, 5, 0, 6, 7, 2, 0] h=5 moves: 2\n",
    "[4, 1, 3, 0, 5, 6, 7, 2, 0] h=4 moves: 3\n",
    "[0, 1, 3, 4, 5, 6, 7, 2, 0] h=3 moves: 4\n",
    "[0, 1, 3, 4, 5, 0, 7, 2, 6] h=4 moves: 5\n",
    "[0, 1, 3, 4, 0, 5, 7, 2, 6] h=5 moves: 6\n",
    "[0, 1, 3, 4, 2, 5, 7, 0, 6] h=4 moves: 7\n",
    "[1, 0, 3, 4, 2, 5, 7, 0, 6] h=3 moves: 8\n",
    "[1, 2, 3, 4, 0, 5, 7, 0, 6] h=2 moves: 9\n",
    "[1, 2, 3, 4, 5, 0, 7, 0, 6] h=1 moves: 10\n",
    "[1, 2, 3, 4, 5, 6, 7, 0, 0] h=0 moves: 11\n",
    "\"\"\""
   ]
  },
  {
   "cell_type": "code",
   "execution_count": 68,
   "metadata": {},
   "outputs": [
    {
     "name": "stdout",
     "output_type": "stream",
     "text": [
      "1st case\n",
      "True\n",
      "[5, 6, 3, 2, 1, 4, 0, 0, 0] h=10 moves: 0\n",
      "[5, 6, 3, 0, 1, 4, 2, 0, 0] h=11 moves: 1\n",
      "[0, 6, 3, 5, 1, 4, 2, 0, 0] h=10 moves: 2\n",
      "[0, 6, 3, 5, 1, 4, 0, 2, 0] h=9 moves: 3\n",
      "[0, 6, 3, 0, 1, 4, 5, 2, 0] h=10 moves: 4\n",
      "[0, 6, 3, 1, 0, 4, 5, 2, 0] h=9 moves: 5\n",
      "[0, 6, 3, 1, 4, 0, 5, 2, 0] h=8 moves: 6\n",
      "[1, 6, 3, 0, 4, 0, 5, 2, 0] h=7 moves: 7\n",
      "[1, 6, 3, 4, 0, 0, 5, 2, 0] h=6 moves: 8\n",
      "[1, 0, 3, 4, 6, 0, 5, 2, 0] h=5 moves: 9\n",
      "[1, 0, 3, 4, 0, 6, 5, 2, 0] h=4 moves: 10\n",
      "[1, 0, 3, 4, 2, 6, 5, 0, 0] h=3 moves: 11\n",
      "[1, 0, 3, 4, 2, 6, 0, 5, 0] h=2 moves: 12\n",
      "[1, 2, 3, 4, 0, 6, 0, 5, 0] h=1 moves: 13\n",
      "[1, 2, 3, 4, 5, 6, 0, 0, 0] h=0 moves: 14\n",
      "358\n"
     ]
    }
   ],
   "source": [
    "print(\"1st case\")\n",
    "solve([5,6,3,2,1,4,0,0,0])"
   ]
  },
  {
   "cell_type": "code",
   "execution_count": 70,
   "metadata": {},
   "outputs": [
    {
     "name": "stdout",
     "output_type": "stream",
     "text": [
      "for the second case:\n",
      "True\n",
      "[1, 4, 3, 5, 2, 0, 0, 0, 0] h=4 moves: 0\n",
      "[1, 4, 3, 5, 0, 2, 0, 0, 0] h=5 moves: 1\n",
      "[1, 0, 3, 5, 4, 2, 0, 0, 0] h=4 moves: 2\n",
      "[1, 0, 3, 0, 4, 2, 5, 0, 0] h=5 moves: 3\n",
      "[1, 0, 3, 0, 4, 2, 0, 5, 0] h=4 moves: 4\n",
      "[1, 0, 3, 4, 0, 2, 0, 5, 0] h=3 moves: 5\n",
      "[1, 0, 3, 4, 2, 0, 0, 5, 0] h=2 moves: 6\n",
      "[1, 2, 3, 4, 0, 0, 0, 5, 0] h=1 moves: 7\n",
      "[1, 2, 3, 4, 5, 0, 0, 0, 0] h=0 moves: 8\n",
      "64\n"
     ]
    }
   ],
   "source": [
    "print(\"for the second case:\")\n",
    "solve([1,4,3,5,2,0,0,0,0])"
   ]
  },
  {
   "cell_type": "code",
   "execution_count": 71,
   "metadata": {},
   "outputs": [
    {
     "name": "stdout",
     "output_type": "stream",
     "text": [
      "for the third case:\n",
      "True\n",
      "[0, 0, 2, 0, 3, 4, 0, 5, 1] h=10 moves: 0\n",
      "[0, 3, 2, 0, 0, 4, 0, 5, 1] h=9 moves: 1\n",
      "[0, 3, 2, 0, 4, 0, 0, 5, 1] h=8 moves: 2\n",
      "[0, 3, 2, 0, 4, 1, 0, 5, 0] h=7 moves: 3\n",
      "[0, 3, 2, 4, 0, 1, 0, 5, 0] h=6 moves: 4\n",
      "[0, 3, 2, 4, 1, 0, 0, 5, 0] h=5 moves: 5\n",
      "[0, 3, 0, 4, 1, 2, 0, 5, 0] h=6 moves: 6\n",
      "[0, 0, 3, 4, 1, 2, 0, 5, 0] h=5 moves: 7\n",
      "[0, 1, 3, 4, 0, 2, 0, 5, 0] h=4 moves: 8\n",
      "[0, 1, 3, 4, 2, 0, 0, 5, 0] h=3 moves: 9\n",
      "[1, 0, 3, 4, 2, 0, 0, 5, 0] h=2 moves: 10\n",
      "[1, 2, 3, 4, 0, 0, 0, 5, 0] h=1 moves: 11\n",
      "[1, 2, 3, 4, 5, 0, 0, 0, 0] h=0 moves: 12\n",
      "282\n"
     ]
    }
   ],
   "source": [
    "print(\"for the third case:\")\n",
    "solve([0,0,2,0,3,4,0,5,1])"
   ]
  },
  {
   "cell_type": "code",
   "execution_count": 73,
   "metadata": {},
   "outputs": [
    {
     "name": "stdout",
     "output_type": "stream",
     "text": [
      "for a fourth case:\n",
      "False\n"
     ]
    }
   ],
   "source": [
    "print(\"for a fourth case:\")\n",
    "solve([1,2,3,4,5,7,6,0,8])"
   ]
  },
  {
   "cell_type": "code",
   "execution_count": null,
   "metadata": {},
   "outputs": [],
   "source": []
  }
 ],
 "metadata": {
  "kernelspec": {
   "display_name": "Python 3",
   "language": "python",
   "name": "python3"
  },
  "language_info": {
   "codemirror_mode": {
    "name": "ipython",
    "version": 3
   },
   "file_extension": ".py",
   "mimetype": "text/x-python",
   "name": "python",
   "nbconvert_exporter": "python",
   "pygments_lexer": "ipython3",
   "version": "3.12.3"
  }
 },
 "nbformat": 4,
 "nbformat_minor": 2
}
