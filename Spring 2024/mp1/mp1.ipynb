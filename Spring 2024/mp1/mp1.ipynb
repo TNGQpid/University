{
 "cells": [
  {
   "cell_type": "code",
   "execution_count": 1,
   "id": "4d42364f-1544-4445-bba4-9f2b6f2d521f",
   "metadata": {},
   "outputs": [],
   "source": [
    "# project: p1\n",
    "# submitter: emanter\n",
    "# partner: none\n",
    "# hours: 6"
   ]
  },
  {
   "cell_type": "code",
   "execution_count": 2,
   "id": "8d6aee7d-21d5-4e62-8050-c816a4681930",
   "metadata": {},
   "outputs": [],
   "source": [
    "#import statements\n",
    "import json\n",
    "import os\n",
    "import pandas\n",
    "from subprocess import check_output\n",
    "import subprocess\n",
    "import time\n",
    "import numpy as np"
   ]
  },
  {
   "cell_type": "code",
   "execution_count": 3,
   "id": "2f729ac0-a6f1-44fa-806e-6a0aeff5d779",
   "metadata": {},
   "outputs": [
    {
     "data": {
      "text/plain": [
       "float"
      ]
     },
     "execution_count": 3,
     "metadata": {},
     "output_type": "execute_result"
    }
   ],
   "source": [
    "#Q1\n",
    "type(8/3)"
   ]
  },
  {
   "cell_type": "code",
   "execution_count": 4,
   "id": "edc0028b-8f57-4be5-b224-4c29419e4a7d",
   "metadata": {},
   "outputs": [
    {
     "data": {
      "text/plain": [
       "True"
      ]
     },
     "execution_count": 4,
     "metadata": {},
     "output_type": "execute_result"
    }
   ],
   "source": [
    "#Q2\n",
    "x = 4\n",
    "maximum = 15\n",
    "minimum = 5\n",
    "error = not x in (minimum, maximum) # False if x is inside the minimum-to-maximum range\n",
    "error\n"
   ]
  },
  {
   "cell_type": "code",
   "execution_count": 5,
   "id": "253b8613-9377-4b36-8e9d-820b701bd826",
   "metadata": {},
   "outputs": [
    {
     "data": {
      "text/plain": [
       "True"
      ]
     },
     "execution_count": 5,
     "metadata": {},
     "output_type": "execute_result"
    }
   ],
   "source": [
    "#Q3\n",
    "word = \"QUOTIDIAN\"\n",
    "suffix_match = word.lower()[-3:] == \"ian\" # .endswith(...) method not allowed for this question! (practice slicing)\n",
    "suffix_match\n"
   ]
  },
  {
   "cell_type": "code",
   "execution_count": 6,
   "id": "3f4ce83e-d972-44df-92a3-6905ee79b520",
   "metadata": {},
   "outputs": [],
   "source": [
    "def check_sum(x=0, y=0, z=0):\n",
    "    if x + y == z:\n",
    "        return True\n",
    "    else:\n",
    "        return False"
   ]
  },
  {
   "cell_type": "code",
   "execution_count": 7,
   "id": "2c55b036-a6b9-44b9-a18e-9071f57454c0",
   "metadata": {},
   "outputs": [
    {
     "data": {
      "text/plain": [
       "False"
      ]
     },
     "execution_count": 7,
     "metadata": {},
     "output_type": "execute_result"
    }
   ],
   "source": [
    "#Q4\n",
    "check_sum(0.1, 0.2, 0.3)"
   ]
  },
  {
   "cell_type": "code",
   "execution_count": 8,
   "id": "effa2b66-9224-4d1e-a2e3-156eda1b7915",
   "metadata": {},
   "outputs": [
    {
     "data": {
      "text/plain": [
       "True"
      ]
     },
     "execution_count": 8,
     "metadata": {},
     "output_type": "execute_result"
    }
   ],
   "source": [
    "#Q5\n",
    "check_sum(-1, 1)"
   ]
  },
  {
   "cell_type": "code",
   "execution_count": 9,
   "id": "a3b5e379-94c8-4188-8e06-3360b1fc8314",
   "metadata": {},
   "outputs": [
    {
     "data": {
      "text/plain": [
       "'even'"
      ]
     },
     "execution_count": 9,
     "metadata": {},
     "output_type": "execute_result"
    }
   ],
   "source": [
    "#Q6\n",
    "x = 4\n",
    "if x%2 ==1:\n",
    "    status = \"odd\"\n",
    "elif x%2 ==0:\n",
    "    status = \"even\"\n",
    "else:\n",
    "    status = \"non-integer\"\n",
    "status\n"
   ]
  },
  {
   "cell_type": "code",
   "execution_count": 10,
   "id": "1dc8b4db-085b-4063-be9b-afa5590e88ab",
   "metadata": {},
   "outputs": [
    {
     "name": "stdout",
     "output_type": "stream",
     "text": [
      "3\n",
      "4\n",
      "1\n",
      "6\n"
     ]
    }
   ],
   "source": [
    "nums = [3, 4, 1, 6]\n",
    "for x in nums:\n",
    "    print(x)"
   ]
  },
  {
   "cell_type": "code",
   "execution_count": 11,
   "id": "d299ccce-88b1-49b6-a2d3-82b99f1aa058",
   "metadata": {},
   "outputs": [],
   "source": [
    "def neg_sum(listy):\n",
    "    total = 0\n",
    "    for num in listy:\n",
    "        if num >0:\n",
    "            continue\n",
    "        total += num\n",
    "        if total <= -20:\n",
    "            break\n",
    "    return total"
   ]
  },
  {
   "cell_type": "code",
   "execution_count": 12,
   "id": "de2fbfe6-295c-4034-90a9-05fef7782013",
   "metadata": {},
   "outputs": [
    {
     "data": {
      "text/plain": [
       "0"
      ]
     },
     "execution_count": 12,
     "metadata": {},
     "output_type": "execute_result"
    }
   ],
   "source": [
    "#Q7\n",
    "neg_sum(nums)"
   ]
  },
  {
   "cell_type": "code",
   "execution_count": 13,
   "id": "4adc82e5-04d4-4318-bd3c-37a480bfc7ac",
   "metadata": {},
   "outputs": [
    {
     "data": {
      "text/plain": [
       "-22"
      ]
     },
     "execution_count": 13,
     "metadata": {},
     "output_type": "execute_result"
    }
   ],
   "source": [
    "#Q8\n",
    "neg_sum([-5, 1, -11, -6, 15, -1, 8, 2])"
   ]
  },
  {
   "cell_type": "code",
   "execution_count": 14,
   "id": "c832eefc-026a-4bb0-b8b4-bf907e0503e4",
   "metadata": {},
   "outputs": [],
   "source": [
    "header = [\"A\", \"B\", \"C\"]\n",
    "\n",
    "coord1 = {\"x\": 8, \"y\": 5}\n",
    "coord2 = {\"x\": 9, \"y\": 2, \"z\" : 4}\n",
    "coord3 = {\"x\": 3, \"y\": 1, \"z\" : 7}\n",
    "\n",
    "rows = [\n",
    "    [1, 6, 7, 8, coord1],\n",
    "    [3, 4, 9, coord2],\n",
    "    [5, 2, coord3],\n",
    "]\n"
   ]
  },
  {
   "cell_type": "code",
   "execution_count": 15,
   "id": "c5291b74-594b-43f7-b533-3fbdbb9a85d8",
   "metadata": {},
   "outputs": [
    {
     "data": {
      "text/plain": [
       "[[1, 6, 7, 8, {'x': 8, 'y': 5}],\n",
       " [3, 4, 9, {'x': 9, 'y': 2, 'z': 4}],\n",
       " [5, 2, {'x': 3, 'y': 1, 'z': 7, 'w': 6}]]"
      ]
     },
     "execution_count": 15,
     "metadata": {},
     "output_type": "execute_result"
    }
   ],
   "source": [
    "#Q9\n",
    "coord3[\"w\"] = 6\n",
    "rows"
   ]
  },
  {
   "cell_type": "code",
   "execution_count": 16,
   "id": "00d262cd-125a-4229-b035-a71cb4bd6790",
   "metadata": {},
   "outputs": [
    {
     "data": {
      "text/plain": [
       "8"
      ]
     },
     "execution_count": 16,
     "metadata": {},
     "output_type": "execute_result"
    }
   ],
   "source": [
    "#Q10\n",
    "rows[0][-1][\"x\"]"
   ]
  },
  {
   "cell_type": "code",
   "execution_count": 17,
   "id": "f42248ea-7866-4222-9198-932767e74063",
   "metadata": {},
   "outputs": [
    {
     "data": {
      "text/plain": [
       "[[1, 6, 7, 8, {'x': 8, 'y': 5}],\n",
       " [3, 404, 9, {'x': 9, 'y': 2, 'z': 4}],\n",
       " [5, 2, {'x': 3, 'y': 1, 'z': 7, 'w': 6}]]"
      ]
     },
     "execution_count": 17,
     "metadata": {},
     "output_type": "execute_result"
    }
   ],
   "source": [
    "#Q11\n",
    "import copy\n",
    "v2 = copy.copy(rows)\n",
    "v2[0] = 404    # first change\n",
    "v2[1][1] = 404 # second change\n",
    "rows\n"
   ]
  },
  {
   "cell_type": "code",
   "execution_count": 18,
   "id": "1679bf68-c143-4ef3-a773-4a9cd7df7226",
   "metadata": {},
   "outputs": [
    {
     "data": {
      "text/plain": [
       "412"
      ]
     },
     "execution_count": 18,
     "metadata": {},
     "output_type": "execute_result"
    }
   ],
   "source": [
    "#Q12\n",
    "sum1 = 0\n",
    "for item in rows:\n",
    "    sum1 += item[header.index(\"B\")]\n",
    "sum1"
   ]
  },
  {
   "cell_type": "code",
   "execution_count": 19,
   "id": "acc5115e-99ea-4dda-a37f-42e179ad6ab8",
   "metadata": {},
   "outputs": [
    {
     "data": {
      "text/plain": [
       "[[5, 2, {'x': 3, 'y': 1, 'z': 7, 'w': 6}],\n",
       " [1, 6, 7, 8, {'x': 8, 'y': 5}],\n",
       " [3, 404, 9, {'x': 9, 'y': 2, 'z': 4}]]"
      ]
     },
     "execution_count": 19,
     "metadata": {},
     "output_type": "execute_result"
    }
   ],
   "source": [
    "#Q13\n",
    "rows.sort(key=lambda item: item[header.index(\"B\")])\n",
    "rows"
   ]
  },
  {
   "cell_type": "code",
   "execution_count": 20,
   "id": "9bd9ea02-df90-4bbe-9bc8-39bfc7e27295",
   "metadata": {},
   "outputs": [
    {
     "name": "stdout",
     "output_type": "stream",
     "text": [
      "<class 'str'>\n",
      "{\"eur\":{\"code\":\"EUR\",\"alphaCode\":\"EUR\",\"numericCode\":\"978\",\"name\":\"Euro\",\"rate\":0.92003147487614,\"date\":\"Fri, 2 Feb 2024 11:55:01 GMT\",\"inverseRate\":1.0869193362484},\"gbp\":{\"code\":\"GBP\",\"alphaCode\":\"GBP\",\"numericCode\":\"826\",\"name\":\"U.K. Pound Sterling\",\"rate\":0.78494838926254,\"date\":\"Fri, 2 Feb 2024...\n"
     ]
    },
    {
     "data": {
      "text/plain": [
       "1338.4640243391"
      ]
     },
     "execution_count": 20,
     "metadata": {},
     "output_type": "execute_result"
    }
   ],
   "source": [
    "#Q14\n",
    "f = open(\"usd.json\")\n",
    "data = f.read()\n",
    "f.close()\n",
    "\n",
    "print(type(data))\n",
    "print(data[:300] + \"...\")\n",
    "\n",
    "stuff = json.loads(data)\n",
    "amount = stuff[\"cad\"][\"rate\"] *1000\n",
    "amount"
   ]
  },
  {
   "cell_type": "code",
   "execution_count": 21,
   "id": "8c10a578-568c-445f-84a5-c00e0aa95516",
   "metadata": {},
   "outputs": [],
   "source": [
    "def divide(aa, bb):\n",
    "    try:\n",
    "        wanted = aa/bb\n",
    "        return wanted\n",
    "    except ZeroDivisionError:\n",
    "        return float(\"nan\")\n"
   ]
  },
  {
   "cell_type": "code",
   "execution_count": 22,
   "id": "7b8c0379-544f-47e8-8871-76d9db71d0ec",
   "metadata": {},
   "outputs": [
    {
     "data": {
      "text/plain": [
       "2.5"
      ]
     },
     "execution_count": 22,
     "metadata": {},
     "output_type": "execute_result"
    }
   ],
   "source": [
    "#Q15\n",
    "divide(5, 2)"
   ]
  },
  {
   "cell_type": "code",
   "execution_count": 23,
   "id": "f219f101-cc87-47e7-a455-559d3381b0b3",
   "metadata": {},
   "outputs": [
    {
     "data": {
      "text/plain": [
       "nan"
      ]
     },
     "execution_count": 23,
     "metadata": {},
     "output_type": "execute_result"
    }
   ],
   "source": [
    "#Q16\n",
    "divide(0, 0)"
   ]
  },
  {
   "cell_type": "code",
   "execution_count": 24,
   "id": "8898c05b-0970-4a6f-b419-e1867149f371",
   "metadata": {},
   "outputs": [],
   "source": [
    "years = {}\n",
    "for item in os.listdir(\"home-computers\"):\n",
    "    if item.endswith(\".csv\"):\n",
    "        position = item.find(\".\")\n",
    "        year = item[(position-4):position]\n",
    "        df = pandas.read_csv(os.path.join(\"home-computers\", item), header = 1)\n",
    "        df = df.set_index(\"Geographic Area Name\")\n",
    "        years[int(year)] = df"
   ]
  },
  {
   "cell_type": "code",
   "execution_count": 25,
   "id": "594fdd5e-8838-4845-af64-ac8c44d2098b",
   "metadata": {},
   "outputs": [
    {
     "data": {
      "text/plain": [
       "[2017, 2018, 2019, 2020, 2021]"
      ]
     },
     "execution_count": 25,
     "metadata": {},
     "output_type": "execute_result"
    }
   ],
   "source": [
    "#Q17\n",
    "sorted(list(years.keys()))"
   ]
  },
  {
   "cell_type": "code",
   "execution_count": 26,
   "id": "f1bcd343-0d50-43ba-9ce4-70eb11e2cfd7",
   "metadata": {},
   "outputs": [
    {
     "data": {
      "text/plain": [
       "2401818"
      ]
     },
     "execution_count": 26,
     "metadata": {},
     "output_type": "execute_result"
    }
   ],
   "source": [
    "#Q18\n",
    "years[2021].at[\"Wisconsin\", \"Estimate!!Total\"]"
   ]
  },
  {
   "cell_type": "code",
   "execution_count": 27,
   "id": "acc6b358-d96a-4d76-8260-b9f9d463ff30",
   "metadata": {},
   "outputs": [
    {
     "data": {
      "text/plain": [
       "8902093"
      ]
     },
     "execution_count": 27,
     "metadata": {},
     "output_type": "execute_result"
    }
   ],
   "source": [
    "#Q19\n",
    "non = years[2021][\"Estimate!!Total!!No Computer\"]\n",
    "non.sum()"
   ]
  },
  {
   "cell_type": "code",
   "execution_count": 28,
   "id": "f41100a3-811a-4d5b-8491-1c22bda2ea98",
   "metadata": {},
   "outputs": [
    {
     "data": {
      "text/plain": [
       "0.07836701790752577"
      ]
     },
     "execution_count": 28,
     "metadata": {},
     "output_type": "execute_result"
    }
   ],
   "source": [
    "#Q20\n",
    "((years[2021][\"Margin of Error!!Total!!No Computer\"])/non).max()"
   ]
  },
  {
   "cell_type": "code",
   "execution_count": 29,
   "id": "65f3a3b4-2843-4b50-b3b4-6075a958678f",
   "metadata": {},
   "outputs": [
    {
     "data": {
      "text/plain": [
       "{'Illinois': 7.351100500886871,\n",
       " 'Indiana': 8.300995843439395,\n",
       " 'Iowa': 8.302263591069158,\n",
       " 'Michigan': 7.579772219831928,\n",
       " 'Minnesota': 6.1777398950248985,\n",
       " 'Wisconsin': 8.029750797104526}"
      ]
     },
     "execution_count": 29,
     "metadata": {},
     "output_type": "execute_result"
    }
   ],
   "source": [
    "#Q21\n",
    "mydict = {}\n",
    "nocom = years[2021][\"Estimate!!Total!!No Computer\"]\n",
    "tot = years[2021][\"Estimate!!Total\"]\n",
    "mydict[\"Illinois\"] = nocom[\"Illinois\"]/tot[\"Illinois\"]*100\n",
    "mydict[\"Indiana\"] = nocom[\"Indiana\"]/tot[\"Indiana\"]*100\n",
    "mydict[\"Iowa\"] = nocom[\"Iowa\"]/tot[\"Iowa\"]*100\n",
    "mydict[\"Michigan\"] = nocom[\"Michigan\"]/tot[\"Michigan\"]*100\n",
    "mydict[\"Minnesota\"] = nocom[\"Minnesota\"]/tot[\"Minnesota\"]*100\n",
    "mydict[\"Wisconsin\"] = nocom[\"Wisconsin\"]/tot[\"Wisconsin\"]*100\n",
    "mydict"
   ]
  },
  {
   "cell_type": "code",
   "execution_count": 30,
   "id": "71d306aa-5ceb-4655-9aa7-ba40abc792b6",
   "metadata": {},
   "outputs": [
    {
     "data": {
      "text/plain": [
       "Text(0, 0.5, '% of Households w/o Computers')"
      ]
     },
     "execution_count": 30,
     "metadata": {},
     "output_type": "execute_result"
    },
    {
     "data": {
      "image/png": "[encoded data removed]",
      "text/plain": [
       "<Figure size 640x480 with 1 Axes>"
      ]
     },
     "metadata": {},
     "output_type": "display_data"
    }
   ],
   "source": [
    "#Q22\n",
    "p = pandas.Series(mydict).plot.bar()\n",
    "p.set_xlabel(\"Geographic Area Name\")\n",
    "p.set_ylabel(\"% of Households w/o Computers\")"
   ]
  },
  {
   "cell_type": "code",
   "execution_count": 31,
   "id": "d8dd65f6-250e-430a-a275-2e3b52277272",
   "metadata": {},
   "outputs": [
    {
     "data": {
      "text/plain": [
       "Text(0, 0.5, 'WI Households without Computers (thousands)')"
      ]
     },
     "execution_count": 31,
     "metadata": {},
     "output_type": "execute_result"
    },
    {
     "data": {
      "image/png": "[encoded data removed]",
      "text/plain": [
       "<Figure size 640x480 with 1 Axes>"
      ]
     },
     "metadata": {},
     "output_type": "display_data"
    }
   ],
   "source": [
    "#Q23\n",
    "d = {}\n",
    "l = []\n",
    "for year in years:\n",
    "    d[year] = (years[year].loc[\"Wisconsin\", \"Estimate!!Total!!No Computer\"])/1000\n",
    "    l.append(year)\n",
    "g = pandas.Series(d).sort_values().plot.line(xticks = l)\n",
    "g.set_xlabel(\"Year\")\n",
    "g.set_ylabel(\"WI Households without Computers (thousands)\")"
   ]
  },
  {
   "cell_type": "code",
   "execution_count": 32,
   "id": "c64a311e-61d3-484c-8ad7-34fb09a0b780",
   "metadata": {},
   "outputs": [
    {
     "data": {
      "text/plain": [
       "Text(0, 0.5, 'Tablets (millions)')"
      ]
     },
     "execution_count": 32,
     "metadata": {},
     "output_type": "execute_result"
    },
    {
     "data": {
      "image/png": "[encoded data removed]",
      "text/plain": [
       "<Figure size 640x480 with 1 Axes>"
      ]
     },
     "metadata": {},
     "output_type": "display_data"
    }
   ],
   "source": [
    "#Q24\n",
    "df1 = years[2021].copy()\n",
    "df1[\"Estimate!!Total!!Has one or more types of computing devices!!Smartphone\"] = df1[\"Estimate!!Total!!Has one or more types of computing devices!!Smartphone\"]/1000000\n",
    "df1[\"Estimate!!Total!!Has one or more types of computing devices!!Tablet or other portable wireless computer\"] = df1[\"Estimate!!Total!!Has one or more types of computing devices!!Tablet or other portable wireless computer\"]/1000000\n",
    "s = df1.plot.scatter(x = \"Estimate!!Total!!Has one or more types of computing devices!!Smartphone\", y = \"Estimate!!Total!!Has one or more types of computing devices!!Tablet or other portable wireless computer\")\n",
    "s.set_xlabel(\"Smartphones (millions)\")\n",
    "s.set_ylabel(\"Tablets (millions)\")"
   ]
  },
  {
   "cell_type": "code",
   "execution_count": 33,
   "id": "4840b75f-442e-4dc0-bf1b-924e315f7b2d",
   "metadata": {},
   "outputs": [
    {
     "name": "stderr",
     "output_type": "stream",
     "text": [
      "Previous HEAD position was a99e408b Finished jQuery example documentation.\n",
      "Switched to branch 'main'\n"
     ]
    },
    {
     "data": {
      "text/plain": [
       "'commit 660994efc761efdfd49ca442b73f6712dc77b6cf'"
      ]
     },
     "execution_count": 33,
     "metadata": {},
     "output_type": "execute_result"
    }
   ],
   "source": [
    "#Q25\n",
    "check_output(\"git checkout main\", cwd = \"flask\", encoding = \"utf-8\", shell = True)\n",
    "stu = check_output(\"git log\", cwd = \"flask\", encoding = \"utf-8\", shell = True)\n",
    "stu1 = stu.split(\"\\n\")\n",
    "stu1[0]"
   ]
  },
  {
   "cell_type": "code",
   "execution_count": 34,
   "id": "386dc552-e6ef-47eb-898f-8f30efed8068",
   "metadata": {},
   "outputs": [
    {
     "name": "stderr",
     "output_type": "stream",
     "text": [
      "Already on 'main'\n"
     ]
    },
    {
     "data": {
      "text/plain": [
       "['a9d4ea81da28ee9c894bf9d45adc4cfa9d52fddc',\n",
       " '727c701686c18c4a27ca523eb0c5862d497be24e',\n",
       " '4edec48b74dbb9d571e927b69b24c30ec0624975',\n",
       " '625eba4bb403296a8bbc1e72cc9cf4a5126f6c02',\n",
       " '4aa76212d1be9b17a57249549c2a73fb10b6cda8',\n",
       " '3b36bef2e6165bb4dad73d17f23ee1879e99f497',\n",
       " '44b42e0fbd93d86e0f4e929bda8e5fb63e81035d',\n",
       " '4ec7d2a0d8eac4f915dc0d38a886cd57045bb0c4',\n",
       " 'b15ad394279fc3b7f998fa56857f334a7c0156f6',\n",
       " '33850c0ebd23ae615e6823993d441f46d80b1ff0']"
      ]
     },
     "execution_count": 34,
     "metadata": {},
     "output_type": "execute_result"
    }
   ],
   "source": [
    "#Q26\n",
    "check_output(\"git checkout main\", cwd = \"flask\", encoding = \"utf-8\", shell = True)\n",
    "q26 = check_output(\"git log\", cwd = \"flask\", encoding = \"utf-8\", shell = True)\n",
    "q26a = q26.split(\"\\n\")\n",
    "a = []\n",
    "for thing in q26a:\n",
    "    if \"commit\" in thing:\n",
    "        a.append(thing)\n",
    "b = a[-10:]\n",
    "c = []\n",
    "for thing in b:\n",
    "    c.append(thing[7:])\n",
    "c"
   ]
  },
  {
   "cell_type": "code",
   "execution_count": 35,
   "id": "081c2383-504b-485f-89d2-c80bfc184ccb",
   "metadata": {},
   "outputs": [
    {
     "name": "stderr",
     "output_type": "stream",
     "text": [
      "Already on 'main'\n",
      "Note: switching to 'a99e408bd109783561d408ef34c286cdd9b51845'.\n",
      "\n",
      "You are in 'detached HEAD' state. You can look around, make experimental\n",
      "changes and commit them, and you can discard any commits you make in this\n",
      "state without impacting any branches by switching back to a branch.\n",
      "\n",
      "If you want to create a new branch to retain commits you create, you may\n",
      "do so (now or later) by using -c with the switch command. Example:\n",
      "\n",
      "  git switch -c <new-branch-name>\n",
      "\n",
      "Or undo this operation with:\n",
      "\n",
      "  git switch -\n",
      "\n",
      "Turn off this advice by setting config variable advice.detachedHead to false\n",
      "\n",
      "HEAD is now at a99e408b Finished jQuery example documentation.\n"
     ]
    },
    {
     "data": {
      "text/plain": [
       "\"\\n                          // Flask //\\n\\n         because sometimes a pocket knife is not enough\\n\\n\\n    ~ What is Flask?\\n\\n      Flask is a microframework for Python based on Werkzeug\\n      and Jinja2.  It's intended for small scale applications\\n      and was development with best intentions in mind.\\n\\n    ~ Is it ready?\\n\\n      A preview release is out now, and I'm hoping for some\\n      input about what you want from a microframework and\\n      how it should look like.  Consider the API to slightly\\n      improve over time.\\n\\n    ~ What do I need?\\n\\n      Jinja 2.4 and Werkzeug 0.6.1.  `easy_install` will\\n      install them for you if you do `easy_install Flask==dev`.\\n      I encourage you to use a virtualenv.  Check the docs for\\n      complete installation and usage instructions.\\n\\n    ~ Where are the docs?\\n\\n      Go to http://flask.pocoo.org/ for a prebuild version of\\n      the current documentation.  Otherwise build them yourself\\n      from the sphinx sources in the docs folder.\\n\""
      ]
     },
     "execution_count": 35,
     "metadata": {},
     "output_type": "execute_result"
    }
   ],
   "source": [
    "#Q27\n",
    "check_output(\"git checkout main\", cwd = \"flask\", encoding = \"utf-8\", shell = True)\n",
    "need = a[-100][7:]\n",
    "check_output(\"git checkout \" + need, cwd = \"flask\", encoding = \"utf-8\", shell = True)\n",
    "f = open(os.path.join(\"flask\", \"README\"))\n",
    "data2 = f.read()\n",
    "f.close()\n",
    "data2"
   ]
  },
  {
   "cell_type": "code",
   "execution_count": 36,
   "id": "178ac60f-cd1d-49b6-802e-87d6028e3e50",
   "metadata": {},
   "outputs": [
    {
     "data": {
      "text/plain": [
       "{'pallets': 204,\n",
       " 'pgjones': 14,\n",
       " 'greyli': 42,\n",
       " 'ThiefMaster': 11,\n",
       " 'davidism': 45,\n",
       " 'untitaker': 20,\n",
       " 'ThomasWaldmann': 13,\n",
       " 'SimonSapin': 11}"
      ]
     },
     "execution_count": 36,
     "metadata": {},
     "output_type": "execute_result"
    }
   ],
   "source": [
    "#Q28\n",
    "j = []\n",
    "for item in q26a:\n",
    "    if \"Merge pull request\" in item and \"/\" in item:\n",
    "        item1 = item.split(\" \")\n",
    "        j.append(item1[-1].split(\"/\")[0])\n",
    "k = {}\n",
    "for name in j:\n",
    "    if name not in k:\n",
    "        k[name] = 1\n",
    "    elif k[name]:\n",
    "        k[name] += 1\n",
    "e = {}\n",
    "for name in k:\n",
    "    if k[name] >= 10:\n",
    "        e[name] = k[name]\n",
    "e"
   ]
  },
  {
   "cell_type": "code",
   "execution_count": 37,
   "id": "b46e56d9-3498-4714-bcf3-79ae1feda177",
   "metadata": {},
   "outputs": [
    {
     "data": {
      "text/plain": [
       "'ERROR: unknown command \"instal\" - maybe you meant \"install\"\\n'"
      ]
     },
     "execution_count": 37,
     "metadata": {},
     "output_type": "execute_result"
    }
   ],
   "source": [
    "#Q29\n",
    "try:\n",
    "    msg = check_output([\"pip3\", \"instal\"], stderr=subprocess.STDOUT, encoding = \"utf-8\")\n",
    "except subprocess.CalledProcessError as e:\n",
    "    msg = e.output\n",
    "msg"
   ]
  },
  {
   "cell_type": "code",
   "execution_count": 38,
   "id": "73d9e3ec-318f-45bc-aa32-6556d53e2e80",
   "metadata": {},
   "outputs": [
    {
     "data": {
      "text/plain": [
       "Text(0, 0.5, 'Milliseconds')"
      ]
     },
     "execution_count": 38,
     "metadata": {},
     "output_type": "execute_result"
    },
    {
     "data": {
      "image/png": "[encoded data removed]",
      "text/plain": [
       "<Figure size 640x480 with 1 Axes>"
      ]
     },
     "metadata": {},
     "output_type": "display_data"
    }
   ],
   "source": [
    "#Q30\n",
    "def rand_df(rows):\n",
    "    return pandas.DataFrame(np.random.randint(10, size=(rows, 5)),\n",
    "                        columns=[\"A\", \"B\", \"C\", \"D\", \"E\"],\n",
    "                        index=[f\"r{i}\" for i in range(1, rows+1)])\n",
    "hi = {}\n",
    "i = 1000\n",
    "while i <= 5000:\n",
    "    df5 = rand_df(i)\n",
    "    t0 = time.time()\n",
    "    # HOW LONG DOES THIS TAKE TO RUN, FOR DATAFRAMES WITH DIFFERENT NUMBERS OF ROWS?\n",
    "    for row in df5.iterrows():\n",
    "        pass\n",
    "    t1 = time.time()\n",
    "    hi[i] = t1-t0\n",
    "    i += 1000\n",
    "he = {}\n",
    "j = 1000\n",
    "while j <= 5000:\n",
    "    df5 = rand_df(j)\n",
    "    t0 = time.time()\n",
    "    # HOW LONG DOES THIS TAKE TO RUN, FOR DATAFRAMES WITH DIFFERENT NUMBERS OF ROWS?\n",
    "    for row in df5.itertuples():\n",
    "        pass\n",
    "    t1 = time.time()\n",
    "    he[j] = t1-t0\n",
    "    j += 1000\n",
    "\n",
    "times_df = pandas.DataFrame(dtype=float)\n",
    "times_df.at[1000, \"iterrows\"] = hi[1000] *1000\n",
    "times_df.at[1000, \"itertuples\"] = he[1000]*1000\n",
    "times_df.at[2000, \"iterrows\"] = hi[2000]*1000\n",
    "times_df.at[2000, \"itertuples\"] = he[2000]*1000\n",
    "times_df.at[3000, \"iterrows\"] = hi[3000]*1000\n",
    "times_df.at[3000, \"itertuples\"] = he[3000]*1000\n",
    "times_df.at[4000, \"iterrows\"] = hi[4000]*1000\n",
    "times_df.at[4000, \"itertuples\"] = he[4000]*1000\n",
    "times_df.at[5000, \"iterrows\"] = hi[5000]*1000\n",
    "times_df.at[5000, \"itertuples\"] = he[5000]*1000\n",
    "gr = times_df.plot.line(xticks = [1000, 2000, 3000, 4000, 5000])\n",
    "gr.set_xlabel(\"Rows\")\n",
    "gr.set_ylabel(\"Milliseconds\")"
   ]
  },
  {
   "cell_type": "code",
   "execution_count": 39,
   "id": "1ae44570-5ede-4e6d-8a76-3df1cb5c89d8",
   "metadata": {},
   "outputs": [
    {
     "data": {
      "text/plain": [
       "Text(0, 0.5, 'Milliseconds')"
      ]
     },
     "execution_count": 39,
     "metadata": {},
     "output_type": "execute_result"
    },
    {
     "data": {
      "image/png": "[encoded data removed]",
      "text/plain": [
       "<Figure size 640x480 with 1 Axes>"
      ]
     },
     "metadata": {},
     "output_type": "display_data"
    }
   ],
   "source": [
    "#Q31\n",
    "gh = {}\n",
    "total = 0\n",
    "i = 1000\n",
    "while i <= 5000:\n",
    "    df7 = rand_df(i)\n",
    "    t0 = time.time()\n",
    "    for idx in df7.index:\n",
    "        for col in df7.columns:\n",
    "            total += df7.loc[idx, col]\n",
    "    t1 = time.time()\n",
    "    gh[i] = t1-t0\n",
    "    i += 1000\n",
    "gg = {}\n",
    "total = 0\n",
    "i = 1000\n",
    "while i <= 5000:\n",
    "    df7 = rand_df(i)\n",
    "    t0 = time.time()\n",
    "    for idx in df7.index:\n",
    "        for col in df7.columns:\n",
    "            total += df7.at[idx, col]\n",
    "    t1 = time.time()\n",
    "    gg[i] = t1-t0\n",
    "    i += 1000\n",
    "\n",
    "times_df1 = pandas.DataFrame(dtype=float)\n",
    "times_df1.at[1000, \"loc\"] = gh[1000] *1000\n",
    "times_df1.at[1000, \"at\"] = gg[1000]*1000\n",
    "times_df1.at[2000, \"loc\"] = gh[2000]*1000\n",
    "times_df1.at[2000, \"at\"] = gg[2000]*1000\n",
    "times_df1.at[3000, \"loc\"] = gh[3000]*1000\n",
    "times_df1.at[3000, \"at\"] = gg[3000]*1000\n",
    "times_df1.at[4000, \"loc\"] = gh[4000]*1000\n",
    "times_df1.at[4000, \"at\"] = gg[4000]*1000\n",
    "times_df1.at[5000, \"loc\"] = gh[5000]*1000\n",
    "times_df1.at[5000, \"at\"] = gg[5000]*1000\n",
    "gra = times_df1.plot.line(xticks = [1000, 2000, 3000, 4000, 5000])\n",
    "gra.set_xlabel(\"Rows\")\n",
    "gra.set_ylabel(\"Milliseconds\")"
   ]
  },
  {
   "cell_type": "code",
   "execution_count": 40,
   "id": "bb41aafa-e0ee-40ec-bc4d-4d6120f8650b",
   "metadata": {},
   "outputs": [
    {
     "data": {
      "text/plain": [
       "Text(0, 0.5, 'Milliseconds')"
      ]
     },
     "execution_count": 40,
     "metadata": {},
     "output_type": "execute_result"
    },
    {
     "data": {
      "image/png": "[encoded data removed]",
      "text/plain": [
       "<Figure size 640x480 with 1 Axes>"
      ]
     },
     "metadata": {},
     "output_type": "display_data"
    }
   ],
   "source": [
    "#Q32\n",
    "def laugh(x):\n",
    "    return \"qwerty\" * x\n",
    "app = {}\n",
    "i = 4000\n",
    "while i <= 20000:\n",
    "    df = rand_df(i)\n",
    "    t0 = time.time()\n",
    "    result = df[\"A\"].apply(laugh).tolist()\n",
    "    t1 = time.time()\n",
    "    app[i] = t1-t0\n",
    "    i += 4000\n",
    "\n",
    "j = 4000\n",
    "append = {}\n",
    "while j <= 20000:\n",
    "    df = rand_df(j)\n",
    "    t0 = time.time()\n",
    "    result = []\n",
    "    for val in df[\"A\"]:\n",
    "        result.append(laugh(val))\n",
    "    t1 = time.time()\n",
    "    append[j] = t1-t0\n",
    "    j += 4000\n",
    "\n",
    "tidf = pandas.DataFrame(dtype=float)\n",
    "tidf.at[4000, \"app\"] = app[4000] *1000\n",
    "tidf.at[4000, \"append\"] = append[4000]*1000\n",
    "tidf.at[8000, \"app\"] = app[8000]*1000\n",
    "tidf.at[8000, \"append\"] = append[8000]*1000\n",
    "tidf.at[12000, \"app\"] = app[12000]*1000\n",
    "tidf.at[12000, \"append\"] = append[12000]*1000\n",
    "tidf.at[16000, \"app\"] = app[16000]*1000\n",
    "tidf.at[16000, \"append\"] = append[16000]*1000\n",
    "tidf.at[20000, \"app\"] = app[20000]*1000\n",
    "tidf.at[20000, \"append\"] = append[20000]*1000\n",
    "\n",
    "grapple = tidf.plot.line(xticks = [4000, 8000, 12000, 16000, 20000])\n",
    "grapple.set_xlabel(\"Rows\")\n",
    "grapple.set_ylabel(\"Milliseconds\")"
   ]
  },
  {
   "cell_type": "code",
   "execution_count": null,
   "id": "30b64047-8ac6-4c34-a0b1-7e74e48462c6",
   "metadata": {},
   "outputs": [],
   "source": []
  }
 ],
 "metadata": {
  "kernelspec": {
   "display_name": "Python 3 (ipykernel)",
   "language": "python",
   "name": "python3"
  },
  "language_info": {
   "codemirror_mode": {
    "name": "ipython",
    "version": 3
   },
   "file_extension": ".py",
   "mimetype": "text/x-python",
   "name": "python",
   "nbconvert_exporter": "python",
   "pygments_lexer": "ipython3",
   "version": "3.10.12"
  }
 },
 "nbformat": 4,
 "nbformat_minor": 5
}
