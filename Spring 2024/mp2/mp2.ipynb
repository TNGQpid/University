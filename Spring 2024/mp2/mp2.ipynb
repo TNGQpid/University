{
 "cells": [
  {
   "cell_type": "code",
   "execution_count": 1,
   "id": "1b39a3ea-71a7-4079-8466-855890c513fa",
   "metadata": {},
   "outputs": [],
   "source": [
    "# project: p2\n",
    "# submitter: emanter\n",
    "# partner: none\n",
    "# hours: 8\n"
   ]
  },
  {
   "cell_type": "code",
   "execution_count": null,
   "id": "c417fb87-2825-46b2-b513-14320ac32878",
   "metadata": {},
   "outputs": [],
   "source": []
  },
  {
   "cell_type": "code",
   "execution_count": 2,
   "id": "52f98cf0-bf41-4b5c-8261-787c77a717d9",
   "metadata": {},
   "outputs": [],
   "source": [
    "import loans\n",
    "from search import BST, Node\n",
    "import time\n",
    "import pandas as pd"
   ]
  },
  {
   "cell_type": "code",
   "execution_count": 3,
   "id": "de63cbef-9594-4ffe-a8af-d6196b68221b",
   "metadata": {},
   "outputs": [],
   "source": [
    "%load_ext autoreload\n",
    "%autoreload 2"
   ]
  },
  {
   "cell_type": "code",
   "execution_count": 4,
   "id": "91c3c380-8b6c-489d-9225-bfa12105d22a",
   "metadata": {},
   "outputs": [
    {
     "data": {
      "text/plain": [
       "{'American Indian or Alaska Native', 'Asian', 'Black or African American'}"
      ]
     },
     "execution_count": 4,
     "metadata": {},
     "output_type": "execute_result"
    }
   ],
   "source": [
    "applicant = loans.Applicant(\"20-30\", [\"1\", \"2\", \"3\"])\n",
    "applicant.race"
   ]
  },
  {
   "cell_type": "code",
   "execution_count": 5,
   "id": "e1032a3b-9d8c-4007-af19-59db5e495cd7",
   "metadata": {},
   "outputs": [
    {
     "data": {
      "text/plain": [
       "Applicant('20-30', ['American Indian or Alaska Native', 'Asian', 'Black or African American'])"
      ]
     },
     "execution_count": 5,
     "metadata": {},
     "output_type": "execute_result"
    }
   ],
   "source": [
    "applicant"
   ]
  },
  {
   "cell_type": "code",
   "execution_count": 6,
   "id": "93859ddd-1ec6-40b0-9fd2-bc0b02a99aea",
   "metadata": {},
   "outputs": [
    {
     "data": {
      "text/plain": [
       "20"
      ]
     },
     "execution_count": 6,
     "metadata": {},
     "output_type": "execute_result"
    }
   ],
   "source": [
    "applicant.lower_age()"
   ]
  },
  {
   "cell_type": "code",
   "execution_count": 7,
   "id": "4895c88e-63fe-4241-9ed5-bc7999dc1e81",
   "metadata": {},
   "outputs": [
    {
     "data": {
      "text/plain": [
       "[Applicant('20-30', ['American Indian or Alaska Native', 'Black or African American']),\n",
       " Applicant('<25', ['White']),\n",
       " Applicant('35-44', ['Chinese']),\n",
       " Applicant('>75', ['Other Pacific Islander', 'Samoan'])]"
      ]
     },
     "execution_count": 7,
     "metadata": {},
     "output_type": "execute_result"
    }
   ],
   "source": [
    "sorted([\n",
    "    loans.Applicant(\">75\", [\"43\", \"44\"]),\n",
    "    loans.Applicant(\"20-30\", [\"1\", \"3\"]),\n",
    "    loans.Applicant(\"35-44\", [\"22\"]),\n",
    "    loans.Applicant(\"<25\", [\"5\"]),\n",
    "])\n"
   ]
  },
  {
   "cell_type": "code",
   "execution_count": 8,
   "id": "b7d04d63-0419-43ae-a9e8-19398b7831c7",
   "metadata": {},
   "outputs": [],
   "source": [
    "values = {'activity_year': '2021', 'lei': '549300Q76VHK6FGPX546', 'derived_msa-md': '24580', 'state_code': 'WI','county_code': '55009',\n",
    "          'census_tract': '55009020702', 'conforming_loan_limit': 'C', 'derived_loan_product_type': 'Conventional:First Lien',\n",
    "          'derived_dwelling_category': 'Single Family (1-4 Units):Site-Built', 'derived_ethnicity': 'Not Hispanic or Latino',\n",
    "          'derived_race': 'White', 'derived_sex': 'Joint', 'action_taken': '1', 'purchaser_type': '1', 'preapproval': '2', 'loan_type': '1',\n",
    "          'loan_purpose': '31', 'lien_status': '1', 'reverse_mortgage': '2', 'open-end_line_of_credit': '2', 'business_or_commercial_purpose': '2',\n",
    "          'loan_amount': '325000.0', 'loan_to_value_ratio': '73.409', 'interest_rate': '2.5', 'rate_spread': '0.304', 'hoepa_status': '2',\n",
    "          'total_loan_costs': '3932.75', 'total_points_and_fees': 'NA', 'origination_charges': '3117.5', 'discount_points': '', 'lender_credits': '',\n",
    "          'loan_term': '240', 'prepayment_penalty_term': 'NA', 'intro_rate_period': 'NA', 'negative_amortization': '2', 'interest_only_payment': '2',\n",
    "          'balloon_payment': '2', 'other_nonamortizing_features': '2', 'property_value': '445000', 'construction_method': '1', 'occupancy_type': '1',\n",
    "          'manufactured_home_secured_property_type': '3', 'manufactured_home_land_property_interest': '5', 'total_units': '1',\n",
    "          'multifamily_affordable_units': 'NA', 'income': '264', 'debt_to_income_ratio': '20%-<30%', 'applicant_credit_score_type': '2',\n",
    "          'co-applicant_credit_score_type': '9', 'applicant_ethnicity-1': '2', 'applicant_ethnicity-2': '', 'applicant_ethnicity-3': '',\n",
    "          'applicant_ethnicity-4': '', 'applicant_ethnicity-5': '', 'co-applicant_ethnicity-1': '2', 'co-applicant_ethnicity-2': '',\n",
    "          'co-applicant_ethnicity-3': '', 'co-applicant_ethnicity-4': '', 'co-applicant_ethnicity-5': '', 'applicant_ethnicity_observed': '2',\n",
    "          'co-applicant_ethnicity_observed': '2', 'applicant_race-1': '5', 'applicant_race-2': '', 'applicant_race-3': '', 'applicant_race-4': '',\n",
    "          'applicant_race-5': '', 'co-applicant_race-1': '5', 'co-applicant_race-2': '', 'co-applicant_race-3': '', 'co-applicant_race-4': '',\n",
    "          'co-applicant_race-5': '', 'applicant_race_observed': '2', 'co-applicant_race_observed': '2', 'applicant_sex': '1',\n",
    "          'co-applicant_sex': '2', 'applicant_sex_observed': '2', 'co-applicant_sex_observed': '2', 'applicant_age': '35-44',\n",
    "          'co-applicant_age': '35-44', 'applicant_age_above_62': 'No', 'co-applicant_age_above_62': 'No', 'submission_of_application': '1',\n",
    "          'initially_payable_to_institution': '1', 'aus-1': '1', 'aus-2': '', 'aus-3': '', 'aus-4': '', 'aus-5': '', 'denial_reason-1': '10',\n",
    "          'denial_reason-2': '', 'denial_reason-3': '', 'denial_reason-4': '', 'tract_population': '6839',\n",
    "          'tract_minority_population_percent': '8.85999999999999943', 'ffiec_msa_md_median_family_income': '80100',\n",
    "          'tract_to_msa_income_percentage': '150', 'tract_owner_occupied_units': '1701', 'tract_one_to_four_family_homes': '2056',\n",
    "          'tract_median_age_of_housing_units': '15'}"
   ]
  },
  {
   "cell_type": "code",
   "execution_count": 9,
   "id": "4cf7c6af-ce03-4eee-a4e2-516b054d3ad0",
   "metadata": {},
   "outputs": [
    {
     "data": {
      "text/plain": [
       "2.5"
      ]
     },
     "execution_count": 9,
     "metadata": {},
     "output_type": "execute_result"
    }
   ],
   "source": [
    "loan = loans.Loan(values)\n",
    "loan.interest_rate"
   ]
  },
  {
   "cell_type": "code",
   "execution_count": 10,
   "id": "d4d19f1a-a3fa-4aa8-9598-4f0f1da82385",
   "metadata": {},
   "outputs": [
    {
     "data": {
      "text/plain": [
       "[Applicant('35-44', ['White']), Applicant('35-44', ['White'])]"
      ]
     },
     "execution_count": 10,
     "metadata": {},
     "output_type": "execute_result"
    }
   ],
   "source": [
    "loan.applicants"
   ]
  },
  {
   "cell_type": "code",
   "execution_count": 11,
   "id": "dc96b363-539c-4770-8cc2-c7d4651bd1cd",
   "metadata": {},
   "outputs": [
    {
     "data": {
      "text/plain": [
       "325000.0"
      ]
     },
     "execution_count": 11,
     "metadata": {},
     "output_type": "execute_result"
    }
   ],
   "source": [
    "loan.loan_amount"
   ]
  },
  {
   "cell_type": "code",
   "execution_count": 12,
   "id": "77078984-d1de-47c2-8ce1-d19bfa15da5b",
   "metadata": {},
   "outputs": [
    {
     "data": {
      "text/plain": [
       "445000.0"
      ]
     },
     "execution_count": 12,
     "metadata": {},
     "output_type": "execute_result"
    }
   ],
   "source": [
    "loan.property_value"
   ]
  },
  {
   "cell_type": "code",
   "execution_count": 13,
   "id": "8c40e3d2-b654-4d29-a761-f6f7e5b8a542",
   "metadata": {},
   "outputs": [
    {
     "name": "stdout",
     "output_type": "stream",
     "text": [
      "<Loan: 2.5% on $445000.0 with 2 applicant(s)>\n"
     ]
    },
    {
     "data": {
      "text/plain": [
       "<Loan: 2.5% on $445000.0 with 2 applicant(s)>"
      ]
     },
     "execution_count": 13,
     "metadata": {},
     "output_type": "execute_result"
    }
   ],
   "source": [
    "print(loan)\n",
    "loan"
   ]
  },
  {
   "cell_type": "code",
   "execution_count": 14,
   "id": "e6e087e1-7962-4c78-b03f-6a6fdbe2aa07",
   "metadata": {},
   "outputs": [
    {
     "name": "stdout",
     "output_type": "stream",
     "text": [
      "325000.0\n",
      "303125.0\n",
      "280703.125\n",
      "257720.703125\n",
      "234163.720703125\n",
      "210017.81372070312\n",
      "185268.2590637207\n",
      "159899.96554031371\n",
      "133897.46467882156\n",
      "107244.90129579211\n",
      "79926.02382818691\n",
      "51924.174423891585\n",
      "23222.278784488873\n"
     ]
    }
   ],
   "source": [
    "for amt in loan.yearly_amounts(30000):\n",
    "    print(amt)"
   ]
  },
  {
   "cell_type": "code",
   "execution_count": 15,
   "id": "8cd64b77-2e4a-49f1-8880-d3826561e37f",
   "metadata": {},
   "outputs": [
    {
     "data": {
      "text/plain": [
       "'254900CN1DD55MJDFH69'"
      ]
     },
     "execution_count": 15,
     "metadata": {},
     "output_type": "execute_result"
    }
   ],
   "source": [
    "uwcu = loans.Bank(\"University of Wisconsin Credit Union\")\n",
    "uwcu.lei"
   ]
  },
  {
   "cell_type": "code",
   "execution_count": 16,
   "id": "ec1ef739-dd40-4318-8fc3-ee80ee367f89",
   "metadata": {},
   "outputs": [],
   "source": [
    "uwcu.load_from_zip(\"./wi.zip\")"
   ]
  },
  {
   "cell_type": "code",
   "execution_count": 17,
   "id": "9e697dd1-436a-4bdb-82ab-1b85b22dd322",
   "metadata": {},
   "outputs": [
    {
     "data": {
      "text/plain": [
       "<Loan: 2.99% on $185000.0 with 2 applicant(s)>"
      ]
     },
     "execution_count": 17,
     "metadata": {},
     "output_type": "execute_result"
    }
   ],
   "source": [
    "uwcu[-1]"
   ]
  },
  {
   "cell_type": "code",
   "execution_count": 18,
   "id": "b50798d5-2d0b-4853-b98d-e520d7af9e22",
   "metadata": {},
   "outputs": [
    {
     "data": {
      "text/plain": [
       "21153"
      ]
     },
     "execution_count": 18,
     "metadata": {},
     "output_type": "execute_result"
    }
   ],
   "source": [
    "len(uwcu)"
   ]
  },
  {
   "cell_type": "code",
   "execution_count": 19,
   "id": "135a2ea1-bae5-47a3-b985-c15906d6749b",
   "metadata": {},
   "outputs": [
    {
     "data": {
      "text/plain": [
       "45"
      ]
     },
     "execution_count": 19,
     "metadata": {},
     "output_type": "execute_result"
    }
   ],
   "source": [
    "bank1 = loans.Bank(\"First Home Bank\")\n",
    "bank1.load_from_zip(\"wi.zip\")\n",
    "len(bank1)"
   ]
  },
  {
   "cell_type": "code",
   "execution_count": 20,
   "id": "7c04a34b-8476-46b5-9503-925bec23decc",
   "metadata": {},
   "outputs": [
    {
     "data": {
      "text/plain": [
       "<Loan: 2.75% on $305000.0 with 1 applicant(s)>"
      ]
     },
     "execution_count": 20,
     "metadata": {},
     "output_type": "execute_result"
    }
   ],
   "source": [
    "bank1[10]"
   ]
  },
  {
   "cell_type": "code",
   "execution_count": 21,
   "id": "ea0509a2-f83e-4980-aee5-98b9dbfdd319",
   "metadata": {},
   "outputs": [
    {
     "name": "stdout",
     "output_type": "stream",
     "text": [
      "C : [33]\n",
      "B : [22]\n",
      "A : [9, 5]\n"
     ]
    }
   ],
   "source": [
    "tree = BST()\n",
    "tree.add(\"A\", 9)\n",
    "tree.add(\"A\", 5)\n",
    "tree.add(\"B\", 22)\n",
    "tree.add(\"C\", 33)\n",
    "tree.dump()"
   ]
  },
  {
   "cell_type": "code",
   "execution_count": 22,
   "id": "5af1cc7f-85f6-46b0-b999-116e3d1cd7dd",
   "metadata": {},
   "outputs": [],
   "source": [
    "t = BST()\n",
    "t.add(\"B\", 3)\n",
    "assert len(t.root) == 1\n",
    "t.add(\"A\", 2)\n",
    "assert len(t.root) == 2\n",
    "t.add(\"C\", 1)\n",
    "assert len(t.root) == 3\n",
    "t.add(\"C\", 4)\n",
    "assert len(t.root) == 4\n"
   ]
  },
  {
   "cell_type": "code",
   "execution_count": 23,
   "id": "9836cf12-32c4-4269-be3b-3e17015849f4",
   "metadata": {},
   "outputs": [
    {
     "data": {
      "text/plain": [
       "[2]"
      ]
     },
     "execution_count": 23,
     "metadata": {},
     "output_type": "execute_result"
    }
   ],
   "source": [
    "t.root.lookup(\"A\")"
   ]
  },
  {
   "cell_type": "code",
   "execution_count": 24,
   "id": "2e2dfb6d-9d82-4d47-88af-66e45f814be5",
   "metadata": {},
   "outputs": [],
   "source": [
    "bank = loans.Bank(\"Charles Schwab Bank, SSB\")"
   ]
  },
  {
   "cell_type": "code",
   "execution_count": 25,
   "id": "e69616df-ae51-450b-b510-01dd3a191c89",
   "metadata": {},
   "outputs": [],
   "source": [
    "bank.load_from_zip(\"./wi.zip\")"
   ]
  },
  {
   "cell_type": "code",
   "execution_count": 26,
   "id": "f8ec2111-5fa6-4e98-8eb8-ea4819614641",
   "metadata": {},
   "outputs": [
    {
     "data": {
      "text/plain": [
       "2.957772277227724"
      ]
     },
     "execution_count": 26,
     "metadata": {},
     "output_type": "execute_result"
    }
   ],
   "source": [
    "#Q1\n",
    "average = bank.average_interest_rate()\n",
    "average"
   ]
  },
  {
   "cell_type": "code",
   "execution_count": 27,
   "id": "a3472e7c-fd30-4446-91c3-bb33546f45e2",
   "metadata": {},
   "outputs": [
    {
     "data": {
      "text/plain": [
       "1.7227722772277227"
      ]
     },
     "execution_count": 27,
     "metadata": {},
     "output_type": "execute_result"
    }
   ],
   "source": [
    "#Q2\n",
    "avg = bank.num_applicants() / len(bank)\n",
    "avg"
   ]
  },
  {
   "cell_type": "code",
   "execution_count": 28,
   "id": "b2ab5e7e-4825-4cdf-a864-255743666f5b",
   "metadata": {},
   "outputs": [
    {
     "data": {
      "text/plain": [
       "{'25-34': 5, '35-44': 25, '45-54': 36, '55-64': 55, '65-74': 41, '>74': 12}"
      ]
     },
     "execution_count": 28,
     "metadata": {},
     "output_type": "execute_result"
    }
   ],
   "source": [
    "#Q3\n",
    "it = bank.ages_dict()\n",
    "it"
   ]
  },
  {
   "cell_type": "code",
   "execution_count": 29,
   "id": "c03b061a-2730-4a4f-a09d-9f187252df5d",
   "metadata": {},
   "outputs": [],
   "source": [
    "tre = BST()\n",
    "for loan in bank.loanlist:\n",
    "    tre.add(loan.interest_rate, loan)"
   ]
  },
  {
   "cell_type": "code",
   "execution_count": 30,
   "id": "00c3b5aa-2b0a-45c3-88d3-14986f8d9898",
   "metadata": {},
   "outputs": [
    {
     "data": {
      "text/plain": [
       "1"
      ]
     },
     "execution_count": 30,
     "metadata": {},
     "output_type": "execute_result"
    }
   ],
   "source": [
    "#Q4\n",
    "len(tre[-1])"
   ]
  },
  {
   "cell_type": "code",
   "execution_count": 31,
   "id": "8df91149-fe96-4ac7-945e-7e03223ebc95",
   "metadata": {},
   "outputs": [
    {
     "data": {
      "text/plain": [
       "9"
      ]
     },
     "execution_count": 31,
     "metadata": {},
     "output_type": "execute_result"
    }
   ],
   "source": [
    "#Q5\n",
    "tre.get_height(tre.root)"
   ]
  },
  {
   "cell_type": "code",
   "execution_count": 32,
   "id": "65b1fc82-6ee2-4552-9e67-b052638cd874",
   "metadata": {},
   "outputs": [],
   "source": [
    "bank1 = loans.Bank(\"University of Wisconsin Credit Union\")"
   ]
  },
  {
   "cell_type": "code",
   "execution_count": 33,
   "id": "5d8ec5c5-ec9e-493b-9f7c-63f888b3f51d",
   "metadata": {},
   "outputs": [],
   "source": [
    "bank1.load_from_zip(\"./wi.zip\")"
   ]
  },
  {
   "cell_type": "code",
   "execution_count": 34,
   "id": "4ff5bf66-408f-4fcf-83a5-92449e5f859b",
   "metadata": {},
   "outputs": [],
   "source": [
    "tr = BST()\n",
    "amount = 0\n",
    "dicty = {}\n",
    "timern = time.time()\n",
    "for loan in bank1.loanlist:\n",
    "    tr.add(loan.interest_rate, loan)\n",
    "    time1 = time.time()\n",
    "    amount += 1\n",
    "    dicty[amount] = (time1 - timern) * 1000"
   ]
  },
  {
   "cell_type": "code",
   "execution_count": 35,
   "id": "7e58b388-96cd-4927-a7e3-3386389aa8f8",
   "metadata": {},
   "outputs": [
    {
     "data": {
      "text/plain": [
       "Text(0.5, 0, 'BST Adds')"
      ]
     },
     "execution_count": 35,
     "metadata": {},
     "output_type": "execute_result"
    },
    {
     "data": {
      "image/png": "[encoded data removed]",
      "text/plain": [
       "<Figure size 640x480 with 1 Axes>"
      ]
     },
     "metadata": {},
     "output_type": "display_data"
    }
   ],
   "source": [
    "#Q6\n",
    "g = pd.Series(dicty).plot.line()\n",
    "g.set_ylabel(\"Time Elapsed Milliseconds\")\n",
    "g.set_xlabel(\"BST Adds\")"
   ]
  },
  {
   "cell_type": "code",
   "execution_count": 36,
   "id": "f4fcfd10-72a7-4d6e-8d24-afc5ae8f8b6d",
   "metadata": {},
   "outputs": [
    {
     "data": {
      "text/plain": [
       "Text(0, 0.5, 'Milliseconds')"
      ]
     },
     "execution_count": 36,
     "metadata": {},
     "output_type": "execute_result"
    },
    {
     "data": {
      "image/png": "[encoded data removed]",
      "text/plain": [
       "<Figure size 640x480 with 1 Axes>"
      ]
     },
     "metadata": {},
     "output_type": "display_data"
    }
   ],
   "source": [
    "#Q7\n",
    "counter = 0\n",
    "timern = time.time()\n",
    "lo = {}\n",
    "for loan in bank1.loanlist:\n",
    "    if int(loan.interest_rate) == -1:\n",
    "        counter += 1\n",
    "time2 = time.time()\n",
    "lo[\"Loop\"] = (time2 - timern) *1000\n",
    "\n",
    "timern = time.time()\n",
    "len(tr[-1])\n",
    "t2 = time.time()\n",
    "lo[\"BST\"] = (t2 - timern) * 1000\n",
    "\n",
    "gr = pd.Series(lo).plot.bar()\n",
    "gr.set_ylabel(\"Milliseconds\")"
   ]
  },
  {
   "cell_type": "code",
   "execution_count": 37,
   "id": "0df8c4f5-8bde-4dc8-8a26-e521236bb2a3",
   "metadata": {},
   "outputs": [
    {
     "data": {
      "text/plain": [
       "<AxesSubplot:>"
      ]
     },
     "execution_count": 37,
     "metadata": {},
     "output_type": "execute_result"
    },
    {
     "data": {
      "image/png": "[encoded data removed]",
      "text/plain": [
       "<Figure size 640x480 with 1 Axes>"
      ]
     },
     "metadata": {},
     "output_type": "display_data"
    }
   ],
   "source": [
    "#Q8\n",
    "di = {}\n",
    "for loan in bank1.loanlist:\n",
    "    for applicant in loan.applicants:\n",
    "        if len(applicant.race) not in di:\n",
    "            di[len(applicant.race)] = 1\n",
    "        else:\n",
    "            di[len(applicant.race)] += 1\n",
    "\n",
    "s = pd.Series(dict((sorted(di.items()))))\n",
    "gp = s.plot.bar()\n",
    "gp"
   ]
  },
  {
   "cell_type": "code",
   "execution_count": 38,
   "id": "9b6b6393-d8cd-41ad-90e5-e95f971dd065",
   "metadata": {},
   "outputs": [
    {
     "data": {
      "text/plain": [
       "9"
      ]
     },
     "execution_count": 38,
     "metadata": {},
     "output_type": "execute_result"
    }
   ],
   "source": [
    "#Q9\n",
    "nonleaf = tr.total(tr.root) - tr.num_nonleaf_nodes(tr.root)\n",
    "nonleaf"
   ]
  },
  {
   "cell_type": "code",
   "execution_count": 39,
   "id": "da077859-f3cc-405b-8ac5-bc6ac0849293",
   "metadata": {},
   "outputs": [
    {
     "data": {
      "text/plain": [
       "5.0"
      ]
     },
     "execution_count": 39,
     "metadata": {},
     "output_type": "execute_result"
    }
   ],
   "source": [
    "#Q10\n",
    "he = tr.top(tr.root, 4)[0]\n",
    "he"
   ]
  },
  {
   "cell_type": "code",
   "execution_count": null,
   "id": "127b65e6-b2ae-4577-9d52-2045b24e2508",
   "metadata": {},
   "outputs": [],
   "source": []
  }
 ],
 "metadata": {
  "kernelspec": {
   "display_name": "Python 3 (ipykernel)",
   "language": "python",
   "name": "python3"
  },
  "language_info": {
   "codemirror_mode": {
    "name": "ipython",
    "version": 3
   },
   "file_extension": ".py",
   "mimetype": "text/x-python",
   "name": "python",
   "nbconvert_exporter": "python",
   "pygments_lexer": "ipython3",
   "version": "3.10.12"
  }
 },
 "nbformat": 4,
 "nbformat_minor": 5
}
